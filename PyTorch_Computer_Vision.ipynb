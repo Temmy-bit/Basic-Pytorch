{
  "cells": [
    {
      "cell_type": "markdown",
      "metadata": {
        "id": "view-in-github",
        "colab_type": "text"
      },
      "source": [
        "<a href=\"https://colab.research.google.com/github/Temmy-bit/Basic-Pytorch/blob/main/PyTorch_Computer_Vision.ipynb\" target=\"_parent\"><img src=\"https://colab.research.google.com/assets/colab-badge.svg\" alt=\"Open In Colab\"/></a>"
      ]
    },
    {
      "cell_type": "code",
      "execution_count": 160,
      "id": "5d30ca2b-8f25-49f0-94fc-122b39bcee3e",
      "metadata": {
        "colab": {
          "base_uri": "https://localhost:8080/"
        },
        "id": "5d30ca2b-8f25-49f0-94fc-122b39bcee3e",
        "outputId": "a6533797-7980-4c3a-ebc0-331828ded867"
      },
      "outputs": [
        {
          "output_type": "execute_result",
          "data": {
            "text/plain": [
              "('0.16.0+cu118', '2.1.0+cu118')"
            ]
          },
          "metadata": {},
          "execution_count": 160
        }
      ],
      "source": [
        "import torch\n",
        "from torch import nn\n",
        "\n",
        "import torchvision\n",
        "from torchvision import transforms\n",
        "from torchvision import datasets\n",
        "from torchvision.transforms import ToTensor\n",
        "\n",
        "import matplotlib.pyplot as plt\n",
        "torchvision.__version__,torch.__version__"
      ]
    },
    {
      "cell_type": "code",
      "execution_count": 161,
      "id": "9a5babf1-f903-4b53-81e1-7691963e6aa1",
      "metadata": {
        "id": "9a5babf1-f903-4b53-81e1-7691963e6aa1"
      },
      "outputs": [],
      "source": [
        "train_data = datasets.FashionMNIST(root = \"data\",\n",
        "                                  train = True,\n",
        "                                  download = True,\n",
        "                                  transform = torchvision.transforms.ToTensor(),\n",
        "                                  target_transform=None)\n",
        "\n",
        "test_data = datasets.FashionMNIST(root = \"data\",\n",
        "                                 train = False,\n",
        "                                 download = True,\n",
        "                                 transform = ToTensor(),\n",
        "                                 target_transform=None)"
      ]
    },
    {
      "cell_type": "code",
      "execution_count": 162,
      "id": "87a833ab-ba56-4494-9413-c6541be4e650",
      "metadata": {
        "colab": {
          "base_uri": "https://localhost:8080/"
        },
        "id": "87a833ab-ba56-4494-9413-c6541be4e650",
        "outputId": "b12e0abc-50e1-49c5-b10c-c8a2c7f74d14"
      },
      "outputs": [
        {
          "output_type": "execute_result",
          "data": {
            "text/plain": [
              "(60000, 10000)"
            ]
          },
          "metadata": {},
          "execution_count": 162
        }
      ],
      "source": [
        "len(train_data),len(test_data)"
      ]
    },
    {
      "cell_type": "code",
      "execution_count": 163,
      "id": "aaec8ac2-8aed-448b-814f-190dc7a32941",
      "metadata": {
        "colab": {
          "base_uri": "https://localhost:8080/"
        },
        "id": "aaec8ac2-8aed-448b-814f-190dc7a32941",
        "outputId": "8a00e61a-c4eb-4efe-f651-88499eeccb37"
      },
      "outputs": [
        {
          "output_type": "execute_result",
          "data": {
            "text/plain": [
              "['T-shirt/top',\n",
              " 'Trouser',\n",
              " 'Pullover',\n",
              " 'Dress',\n",
              " 'Coat',\n",
              " 'Sandal',\n",
              " 'Shirt',\n",
              " 'Sneaker',\n",
              " 'Bag',\n",
              " 'Ankle boot']"
            ]
          },
          "metadata": {},
          "execution_count": 163
        }
      ],
      "source": [
        "class_names = train_data.classes\n",
        "class_names"
      ]
    },
    {
      "cell_type": "code",
      "execution_count": 164,
      "id": "e3d4a12f-3db4-4609-b5c9-29bc86584093",
      "metadata": {
        "tags": [],
        "colab": {
          "base_uri": "https://localhost:8080/"
        },
        "id": "e3d4a12f-3db4-4609-b5c9-29bc86584093",
        "outputId": "660a892c-07f3-4e4e-d79e-4157f86b7ed9"
      },
      "outputs": [
        {
          "output_type": "execute_result",
          "data": {
            "text/plain": [
              "{'T-shirt/top': 0,\n",
              " 'Trouser': 1,\n",
              " 'Pullover': 2,\n",
              " 'Dress': 3,\n",
              " 'Coat': 4,\n",
              " 'Sandal': 5,\n",
              " 'Shirt': 6,\n",
              " 'Sneaker': 7,\n",
              " 'Bag': 8,\n",
              " 'Ankle boot': 9}"
            ]
          },
          "metadata": {},
          "execution_count": 164
        }
      ],
      "source": [
        "class_to_idx = train_data.class_to_idx\n",
        "class_to_idx"
      ]
    },
    {
      "cell_type": "code",
      "execution_count": 165,
      "id": "13c2f030-5315-4a21-8153-1cbc2f992035",
      "metadata": {
        "tags": [],
        "colab": {
          "base_uri": "https://localhost:8080/"
        },
        "id": "13c2f030-5315-4a21-8153-1cbc2f992035",
        "outputId": "fea60b1e-1799-4eb1-aae6-352597ac4b42"
      },
      "outputs": [
        {
          "output_type": "execute_result",
          "data": {
            "text/plain": [
              "tensor([9, 0, 0,  ..., 3, 0, 5])"
            ]
          },
          "metadata": {},
          "execution_count": 165
        }
      ],
      "source": [
        "train_data.targets"
      ]
    },
    {
      "cell_type": "code",
      "execution_count": 166,
      "id": "bac1e17e-4f62-403a-9480-ca308736f8d7",
      "metadata": {
        "tags": [],
        "colab": {
          "base_uri": "https://localhost:8080/"
        },
        "id": "bac1e17e-4f62-403a-9480-ca308736f8d7",
        "outputId": "53400937-741c-411f-c971-99ea6184a853"
      },
      "outputs": [
        {
          "output_type": "execute_result",
          "data": {
            "text/plain": [
              "(torch.Size([60000]),)"
            ]
          },
          "metadata": {},
          "execution_count": 166
        }
      ],
      "source": [
        "train_data.targets.shape,"
      ]
    },
    {
      "cell_type": "code",
      "execution_count": 167,
      "id": "4343ea4d-8428-459e-9090-e1f344be53a2",
      "metadata": {
        "tags": [],
        "id": "4343ea4d-8428-459e-9090-e1f344be53a2"
      },
      "outputs": [],
      "source": [
        "image,label = train_data[0]"
      ]
    },
    {
      "cell_type": "code",
      "execution_count": 168,
      "id": "cb841ef8-6fd5-454c-94e9-09d28e6b3b8e",
      "metadata": {
        "tags": [],
        "colab": {
          "base_uri": "https://localhost:8080/"
        },
        "id": "cb841ef8-6fd5-454c-94e9-09d28e6b3b8e",
        "outputId": "b4ae64ab-f966-426f-c696-2250a098218a"
      },
      "outputs": [
        {
          "output_type": "execute_result",
          "data": {
            "text/plain": [
              "(torch.Size([1, 28, 28]), 9)"
            ]
          },
          "metadata": {},
          "execution_count": 168
        }
      ],
      "source": [
        "image.shape,label"
      ]
    },
    {
      "cell_type": "code",
      "execution_count": 169,
      "id": "4ca7fb49-af98-4613-aeae-cb64889a40f3",
      "metadata": {
        "tags": [],
        "colab": {
          "base_uri": "https://localhost:8080/"
        },
        "id": "4ca7fb49-af98-4613-aeae-cb64889a40f3",
        "outputId": "55c8d568-996e-4898-d87f-281ac6811ad2"
      },
      "outputs": [
        {
          "output_type": "stream",
          "name": "stdout",
          "text": [
            "Image shape: torch.Size([1, 28, 28]) -> [color_channels, height, width]\n",
            "Image Label: Ankle boot\n"
          ]
        }
      ],
      "source": [
        "print(f\"Image shape: {image.shape} -> [color_channels, height, width]\")\n",
        "print(f\"Image Label: {class_names[label]}\")"
      ]
    },
    {
      "cell_type": "code",
      "execution_count": 170,
      "id": "de542a9a-59e2-4e08-9b9b-8dbf4a5610b2",
      "metadata": {
        "tags": [],
        "colab": {
          "base_uri": "https://localhost:8080/",
          "height": 452
        },
        "id": "de542a9a-59e2-4e08-9b9b-8dbf4a5610b2",
        "outputId": "08721a74-026c-4428-9447-a5572d8da308"
      },
      "outputs": [
        {
          "output_type": "display_data",
          "data": {
            "text/plain": [
              "<Figure size 640x480 with 1 Axes>"
            ],
            "image/png": "[encoded data removed]"
          },
          "metadata": {}
        }
      ],
      "source": [
        "# image = image.permute()\n",
        "plt.imshow(image.squeeze());\n",
        "plt.title(class_names[label]);"
      ]
    },
    {
      "cell_type": "code",
      "execution_count": 171,
      "id": "27d8d292-bc14-4df7-838c-60e38ff46358",
      "metadata": {
        "tags": [],
        "colab": {
          "base_uri": "https://localhost:8080/",
          "height": 428
        },
        "id": "27d8d292-bc14-4df7-838c-60e38ff46358",
        "outputId": "24c38632-c224-4afa-bfc9-e92c32b93e86"
      },
      "outputs": [
        {
          "output_type": "display_data",
          "data": {
            "text/plain": [
              "<Figure size 640x480 with 1 Axes>"
            ],
            "image/png": "[encoded data removed]"
          },
          "metadata": {}
        }
      ],
      "source": [
        "plt.imshow(image.squeeze(),cmap=\"gray\")\n",
        "plt.title(class_names[label]);\n",
        "plt.axis(False);"
      ]
    },
    {
      "cell_type": "code",
      "execution_count": 172,
      "id": "475a85ae-d4bd-456f-b6d6-c553c9d53139",
      "metadata": {
        "tags": [],
        "colab": {
          "base_uri": "https://localhost:8080/",
          "height": 752
        },
        "id": "475a85ae-d4bd-456f-b6d6-c553c9d53139",
        "outputId": "83500457-6890-4ce1-f6d4-f20b27d824e2"
      },
      "outputs": [
        {
          "output_type": "display_data",
          "data": {
            "text/plain": [
              "<Figure size 900x900 with 16 Axes>"
            ],
            "image/png": "[encoded data removed]"
          },
          "metadata": {}
        }
      ],
      "source": [
        "# torch.manual_seed(42)\n",
        "fig = plt.figure(figsize = (9,9))\n",
        "rows,cols = 4,4\n",
        "for i in range(1,rows*cols+1):\n",
        "    random_idx = torch.randint(0,len(train_data),size=[1]).item()\n",
        "    # print(random_idx)\n",
        "    img,lab = train_data[random_idx]\n",
        "    fig.add_subplot(rows,cols,i)\n",
        "    plt.imshow(img.squeeze(),cmap='gray');\n",
        "    plt.title(class_names[lab]);\n",
        "    plt.axis(False);"
      ]
    },
    {
      "cell_type": "code",
      "execution_count": 173,
      "id": "91722c7d-7e16-41c7-a7c8-0d5f4af70987",
      "metadata": {
        "tags": [],
        "colab": {
          "base_uri": "https://localhost:8080/"
        },
        "id": "91722c7d-7e16-41c7-a7c8-0d5f4af70987",
        "outputId": "1b82a299-bc94-4ff7-f5a7-3934c350c001"
      },
      "outputs": [
        {
          "output_type": "execute_result",
          "data": {
            "text/plain": [
              "(Dataset FashionMNIST\n",
              "     Number of datapoints: 60000\n",
              "     Root location: data\n",
              "     Split: Train\n",
              "     StandardTransform\n",
              " Transform: ToTensor(),\n",
              " Dataset FashionMNIST\n",
              "     Number of datapoints: 10000\n",
              "     Root location: data\n",
              "     Split: Test\n",
              "     StandardTransform\n",
              " Transform: ToTensor())"
            ]
          },
          "metadata": {},
          "execution_count": 173
        }
      ],
      "source": [
        "train_data,test_data"
      ]
    },
    {
      "cell_type": "code",
      "execution_count": 174,
      "id": "8d563a3d-b48a-499b-b9d4-21456a7ce54e",
      "metadata": {
        "tags": [],
        "id": "8d563a3d-b48a-499b-b9d4-21456a7ce54e"
      },
      "outputs": [],
      "source": [
        "from torch.utils.data import DataLoader\n",
        "\n",
        "# setup the batch size hyperparameter\n",
        "BATCH_SIZE = 32\n",
        "\n",
        "# Turn datasets into iterables (Batches)\n",
        "train_dataloader = DataLoader(dataset = train_data,\n",
        "                             batch_size = BATCH_SIZE,\n",
        "                             shuffle = True)\n",
        "\n",
        "test_dataloader = DataLoader(dataset=test_data,\n",
        "                            batch_size = BATCH_SIZE,\n",
        "                            shuffle= False)"
      ]
    },
    {
      "cell_type": "code",
      "execution_count": 175,
      "id": "356e7c78-e7f7-4c46-9de3-9bf0a8ff7e82",
      "metadata": {
        "tags": [],
        "colab": {
          "base_uri": "https://localhost:8080/"
        },
        "id": "356e7c78-e7f7-4c46-9de3-9bf0a8ff7e82",
        "outputId": "be71e1fe-2ebd-4d68-dc6a-1463b4371202"
      },
      "outputs": [
        {
          "output_type": "stream",
          "name": "stdout",
          "text": [
            "Length of train_dataloader: 1875 batches of 32...\n",
            "Length of test_dataloader: 313 batches of 32...\n"
          ]
        }
      ],
      "source": [
        "print(f\"Length of train_dataloader: {len(train_dataloader)} batches of {BATCH_SIZE}...\")\n",
        "print(f\"Length of test_dataloader: {len(test_dataloader)} batches of {BATCH_SIZE}...\")"
      ]
    },
    {
      "cell_type": "code",
      "execution_count": 176,
      "id": "2910db79-eae8-4394-90e8-9206142bcd35",
      "metadata": {
        "colab": {
          "base_uri": "https://localhost:8080/"
        },
        "id": "2910db79-eae8-4394-90e8-9206142bcd35",
        "outputId": "b9404417-5278-471f-de13-c1158fc6cda8"
      },
      "outputs": [
        {
          "output_type": "execute_result",
          "data": {
            "text/plain": [
              "(torch.Size([32, 1, 28, 28]), torch.Size([32]))"
            ]
          },
          "metadata": {},
          "execution_count": 176
        }
      ],
      "source": [
        "train_features_batch,train_label_batch = next(iter(train_dataloader))\n",
        "train_features_batch.shape, train_label_batch.shape"
      ]
    },
    {
      "cell_type": "code",
      "execution_count": 177,
      "id": "8e16a247-4149-42bd-8185-2029e8f16f44",
      "metadata": {
        "tags": [],
        "colab": {
          "base_uri": "https://localhost:8080/",
          "height": 752
        },
        "id": "8e16a247-4149-42bd-8185-2029e8f16f44",
        "outputId": "0d1aa123-d13c-4184-aa37-e169183d335d"
      },
      "outputs": [
        {
          "output_type": "display_data",
          "data": {
            "text/plain": [
              "<Figure size 900x900 with 36 Axes>"
            ],
            "image/png": "[encoded data removed]"
          },
          "metadata": {}
        }
      ],
      "source": [
        "torch.manual_seed(42)\n",
        "fig = plt.figure(figsize = (9,9))\n",
        "rows,cols = 6,6\n",
        "for i in range(1,rows*cols+1):\n",
        "    random_idx = torch.randint(0,len(train_features_batch),size=[1]).item()\n",
        "    # print(random_idx)\n",
        "    img,lab = train_features_batch[random_idx],train_label_batch[random_idx]\n",
        "    fig.add_subplot(rows,cols,i)\n",
        "    plt.imshow(img.squeeze(),cmap='gray');\n",
        "    plt.title(class_names[lab]);\n",
        "    plt.axis(False);"
      ]
    },
    {
      "cell_type": "markdown",
      "id": "a38ef884-e1cf-446c-b149-444996689833",
      "metadata": {
        "tags": [],
        "id": "a38ef884-e1cf-446c-b149-444996689833"
      },
      "source": [
        "### BaseLine Model"
      ]
    },
    {
      "cell_type": "code",
      "execution_count": 178,
      "id": "6781c873-c1f0-4a7f-a522-9e057f754742",
      "metadata": {
        "tags": [],
        "colab": {
          "base_uri": "https://localhost:8080/"
        },
        "id": "6781c873-c1f0-4a7f-a522-9e057f754742",
        "outputId": "729d85fb-7520-4508-850c-7dbec6561324"
      },
      "outputs": [
        {
          "output_type": "stream",
          "name": "stdout",
          "text": [
            "The image size before flatten torch.Size([1, 28, 28]) -> [color_channel, height, width]\n",
            "Image size after flatten torch.Size([1, 784]) -> [color_channel, height*width]\n"
          ]
        }
      ],
      "source": [
        "flatten_model = nn.Flatten()\n",
        "\n",
        "x = train_features_batch[0]\n",
        "\n",
        "output = flatten_model(x)\n",
        "\n",
        "print(f\"The image size before flatten {x.shape} -> [color_channel, height, width]\")\n",
        "print(f\"Image size after flatten {output.shape} -> [color_channel, height*width]\")"
      ]
    },
    {
      "cell_type": "code",
      "execution_count": 179,
      "id": "311f34f2-70f5-413e-b750-9b2361100ec0",
      "metadata": {
        "tags": [],
        "id": "311f34f2-70f5-413e-b750-9b2361100ec0"
      },
      "outputs": [],
      "source": [
        "class FashionMNISTModelV0(nn.Module):\n",
        "    def __init__(self,input_shape : int,\n",
        "                hidden_units : int,\n",
        "                output_shape : int):\n",
        "        super().__init__()\n",
        "        self.layer_stack = nn.Sequential(\n",
        "            nn.Flatten(),\n",
        "            nn.Linear(in_features=input_shape,\n",
        "                     out_features=hidden_units),\n",
        "            nn.Linear(in_features=hidden_units,\n",
        "                      out_features=output_shape\n",
        "                     )\n",
        "        )\n",
        "    def forward(self,x):\n",
        "        return self.layer_stack(x)\n",
        ""
      ]
    },
    {
      "cell_type": "code",
      "execution_count": 180,
      "id": "fb7ae43f-a344-44fc-8644-c7ff11128161",
      "metadata": {
        "tags": [],
        "colab": {
          "base_uri": "https://localhost:8080/"
        },
        "id": "fb7ae43f-a344-44fc-8644-c7ff11128161",
        "outputId": "73ab7e8a-587f-4b4e-bbcb-4f042f2ece30"
      },
      "outputs": [
        {
          "output_type": "execute_result",
          "data": {
            "text/plain": [
              "FashionMNISTModelV0(\n",
              "  (layer_stack): Sequential(\n",
              "    (0): Flatten(start_dim=1, end_dim=-1)\n",
              "    (1): Linear(in_features=784, out_features=10, bias=True)\n",
              "    (2): Linear(in_features=10, out_features=10, bias=True)\n",
              "  )\n",
              ")"
            ]
          },
          "metadata": {},
          "execution_count": 180
        }
      ],
      "source": [
        "torch.manual_seed(42)\n",
        "\n",
        "model_0 = FashionMNISTModelV0(\n",
        "    input_shape=784,\n",
        "    hidden_units=10,\n",
        "    output_shape=len(class_names)\n",
        ")\n",
        "model_0"
      ]
    },
    {
      "cell_type": "code",
      "execution_count": 181,
      "id": "1757c02f-b028-4ae8-855a-5484cbee25fb",
      "metadata": {
        "tags": [],
        "colab": {
          "base_uri": "https://localhost:8080/"
        },
        "id": "1757c02f-b028-4ae8-855a-5484cbee25fb",
        "outputId": "abc294fa-5552-4def-a4b4-b25ee2e8ec9e"
      },
      "outputs": [
        {
          "output_type": "execute_result",
          "data": {
            "text/plain": [
              "tensor([[-0.0315,  0.3171,  0.0531, -0.2525,  0.5959,  0.2112,  0.3233,  0.2694,\n",
              "         -0.1004,  0.0157]], grad_fn=<AddmmBackward0>)"
            ]
          },
          "metadata": {},
          "execution_count": 181
        }
      ],
      "source": [
        "dummy_x = torch.rand([1,1,28,28])\n",
        "model_0(dummy_x)"
      ]
    },
    {
      "cell_type": "code",
      "execution_count": 182,
      "id": "1e289523-3819-4346-9d93-69a9f619fa54",
      "metadata": {
        "tags": [],
        "id": "1e289523-3819-4346-9d93-69a9f619fa54"
      },
      "outputs": [],
      "source": [
        "def accuracy_fn(y_true,y_pred):\n",
        "    correct = torch.eq(y_true,y_pred).sum().item()\n",
        "    acc = (correct/len(y_pred)) * 100\n",
        "    return acc"
      ]
    },
    {
      "cell_type": "code",
      "execution_count": 183,
      "id": "532dcf4b-5d09-49d3-8701-16346082a97c",
      "metadata": {
        "tags": [],
        "id": "532dcf4b-5d09-49d3-8701-16346082a97c"
      },
      "outputs": [],
      "source": [
        "loss_fn = nn.CrossEntropyLoss()\n",
        "optimizer = torch.optim.SGD(params = model_0.parameters(),\n",
        "                            lr= 0.1)"
      ]
    },
    {
      "cell_type": "code",
      "execution_count": 184,
      "id": "297656d1-a95b-4bc5-b3c4-47cb11a33f11",
      "metadata": {
        "tags": [],
        "id": "297656d1-a95b-4bc5-b3c4-47cb11a33f11"
      },
      "outputs": [],
      "source": [
        "from timeit import default_timer as timer\n",
        "def print_train_time(start: float,\n",
        "                    end: float,\n",
        "                    device: torch.device = None):\n",
        "    \"\"\"Prints difference between start and end time.\"\"\"\n",
        "    total_time = end - start\n",
        "    print(f\"Train time on {device}: {total_time:.3f} seconds\")\n",
        "    return total_time"
      ]
    },
    {
      "cell_type": "code",
      "execution_count": 185,
      "id": "588a9602-3b74-471f-bed1-42f5ba997861",
      "metadata": {
        "tags": [],
        "colab": {
          "base_uri": "https://localhost:8080/",
          "height": 35
        },
        "id": "588a9602-3b74-471f-bed1-42f5ba997861",
        "outputId": "d35094f2-d106-4c63-91e9-4c86aecfaf32"
      },
      "outputs": [
        {
          "output_type": "execute_result",
          "data": {
            "text/plain": [
              "'cuda'"
            ],
            "application/vnd.google.colaboratory.intrinsic+json": {
              "type": "string"
            }
          },
          "metadata": {},
          "execution_count": 185
        }
      ],
      "source": [
        "device = \"cuda\" if torch.cuda.is_available() else \"cpu\"\n",
        "device"
      ]
    },
    {
      "cell_type": "code",
      "execution_count": 186,
      "id": "cec8d7c5-7d62-4975-bc06-e3dc867c376e",
      "metadata": {
        "tags": [],
        "colab": {
          "base_uri": "https://localhost:8080/",
          "height": 535,
          "referenced_widgets": [
            "0e95f37bea5849fd9f944f284626cd0a",
            "1f2ee5acdf944eeca5729f3670c7ddd9",
            "3c0ed7c3d2814c58b1344c9891af76c2",
            "cd51d4fb9c4247559013eda4273aa52f",
            "dd8293b8ca4a45f1b84c8b01611b8811",
            "e96922ed73df482dbb59466b8168b86b",
            "0850089ab0d04868b38274134112e889",
            "9d373f4f02524ce6b76bf0e221533193",
            "a1fd897820ee42539335b60102af2e9a",
            "1b0575448a54424684f49ed7ba5c4417",
            "211844327b4e44df898e84216fed0d67"
          ]
        },
        "id": "cec8d7c5-7d62-4975-bc06-e3dc867c376e",
        "outputId": "460988a3-7367-4efa-ce72-bd9ada3c1d5a"
      },
      "outputs": [
        {
          "output_type": "display_data",
          "data": {
            "text/plain": [
              "  0%|          | 0/3 [00:00<?, ?it/s]"
            ],
            "application/vnd.jupyter.widget-view+json": {
              "version_major": 2,
              "version_minor": 0,
              "model_id": "0e95f37bea5849fd9f944f284626cd0a"
            }
          },
          "metadata": {}
        },
        {
          "output_type": "stream",
          "name": "stdout",
          "text": [
            "Epoch: 0\n",
            "-----\n",
            "Looked at 0/60000 samples.\n",
            "Looked at 12800/60000 samples.\n",
            "Looked at 25600/60000 samples.\n",
            "Looked at 38400/60000 samples.\n",
            "Looked at 51200/60000 samples.\n",
            "\n",
            "Train loss: 0.5904 | Test loss: 0.0010, Test acc: 28.0321\n",
            "Epoch: 1\n",
            "-----\n",
            "Looked at 0/60000 samples.\n",
            "Looked at 12800/60000 samples.\n",
            "Looked at 25600/60000 samples.\n",
            "Looked at 38400/60000 samples.\n",
            "Looked at 51200/60000 samples.\n",
            "\n",
            "Train loss: 0.4763 | Test loss: 0.0009, Test acc: 30.0289\n",
            "Epoch: 2\n",
            "-----\n",
            "Looked at 0/60000 samples.\n",
            "Looked at 12800/60000 samples.\n",
            "Looked at 25600/60000 samples.\n",
            "Looked at 38400/60000 samples.\n",
            "Looked at 51200/60000 samples.\n",
            "\n",
            "Train loss: 0.4550 | Test loss: 0.0011, Test acc: 30.0289\n",
            "Train time on cpu: 29.698 seconds\n"
          ]
        }
      ],
      "source": [
        "from tqdm.auto import tqdm\n",
        "\n",
        "torch.manual_seed(42)\n",
        "train_time_start_on_cpu = timer()\n",
        "\n",
        "epochs = 3\n",
        "\n",
        "for epoch in tqdm(range(epochs)):\n",
        "    print(f\"Epoch: {epoch}\\n-----\")\n",
        "\n",
        "    train_loss = 0\n",
        "#     Add a loop to loop through the training batches\n",
        "    for batch, (X,y) in enumerate(train_dataloader):\n",
        "        model_0.train()\n",
        "\n",
        "        y_pred = model_0(X)\n",
        "\n",
        "        loss = loss_fn(y_pred,y)\n",
        "        train_loss += loss\n",
        "\n",
        "        optimizer.zero_grad()\n",
        "\n",
        "        loss.backward()\n",
        "\n",
        "        optimizer.step()\n",
        "\n",
        "        if batch % 400 == 0:\n",
        "            print(f\"Looked at {batch * len(X)}/{len(train_dataloader.dataset)} samples.\")\n",
        "\n",
        "    train_loss /= len(train_dataloader)\n",
        "\n",
        "#     Testing\n",
        "    test_loss, test_acc = 0,0\n",
        "    model_0.eval()\n",
        "    with torch.inference_mode():\n",
        "        for X_test,y_test in test_dataloader:\n",
        "            test_pred = model_0(X_test)\n",
        "\n",
        "            test_loss += loss_fn(test_pred,y_test)\n",
        "\n",
        "            test_acc += accuracy_fn(y_test,test_pred.argmax(dim=1))\n",
        "\n",
        "            test_loss /= len(test_dataloader)\n",
        "\n",
        "            test_acc /= len(test_dataloader)\n",
        "\n",
        "    print(f\"\\nTrain loss: {train_loss:.4f} | Test loss: {test_loss:.4f}, Test acc: {test_acc * 100 :.4f}\")\n",
        "train_time_end_on_cpu = timer()\n",
        "total_train_time_model_0 = print_train_time(start = train_time_start_on_cpu,\n",
        "                                           end = train_time_end_on_cpu,\n",
        "                                           device = str(next(model_0.parameters()).device))"
      ]
    },
    {
      "cell_type": "code",
      "execution_count": 187,
      "id": "c0e05f1f-9674-4e37-82f5-63aa611dcd0b",
      "metadata": {
        "tags": [],
        "colab": {
          "base_uri": "https://localhost:8080/",
          "height": 101,
          "referenced_widgets": [
            "9cccfe713d5846eea314c508423422b6",
            "faa980ae71bb48dda5ba843e85d8f8fd",
            "78067c1c396d48b18e327dc2067a2d76",
            "467ff798c7dd45dfb5f96ebf5e49ba98",
            "814005ae4bdb49ae8322087d42f34b8d",
            "863bdbab575b4a67b9069766859c93d3",
            "214c74a30f0d40c7b7ee84d398f754b1",
            "acd5c0b7495f4c258174f91cca29c6a9",
            "63af952840eb4775a2bac7d65b8a9414",
            "e4c0d91110d5472690fb04f955765ebc",
            "72cd6bbe6212473db837326f1c947093"
          ]
        },
        "id": "c0e05f1f-9674-4e37-82f5-63aa611dcd0b",
        "outputId": "4dce8a44-034f-4ce5-b00a-c99cc2eb722d"
      },
      "outputs": [
        {
          "output_type": "display_data",
          "data": {
            "text/plain": [
              "  0%|          | 0/313 [00:00<?, ?it/s]"
            ],
            "application/vnd.jupyter.widget-view+json": {
              "version_major": 2,
              "version_minor": 0,
              "model_id": "9cccfe713d5846eea314c508423422b6"
            }
          },
          "metadata": {}
        },
        {
          "output_type": "execute_result",
          "data": {
            "text/plain": [
              "{'model_name': 'FashionMNISTModelV0',\n",
              " 'model_loss': 0.47663888335227966,\n",
              " 'model_acc': 83.42651757188499}"
            ]
          },
          "metadata": {},
          "execution_count": 187
        }
      ],
      "source": [
        "torch.manual_seed(42)\n",
        "def eval_model(model: torch.nn.Module,\n",
        "              data_loader: torch.utils.data.DataLoader,\n",
        "              loss_fn: torch.nn.Module,\n",
        "              accuracy_fn,\n",
        "               device: torch.device = device\n",
        "              ):\n",
        "    \"\"\"Returns a dictionary containing the results of model predicting on data_loader.\"\"\"\n",
        "    loss, acc = 0,0\n",
        "    model.eval()\n",
        "    with torch.inference_mode():\n",
        "        for X,y in tqdm(data_loader):\n",
        "#             Make Predictions\n",
        "            y_pred = model(X)\n",
        "\n",
        "#            Accumulate the loss and acc valus per batch\n",
        "            loss += loss_fn(y_pred,y)\n",
        "            acc += accuracy_fn(y_true=y,\n",
        "                              y_pred = y_pred.argmax(dim=1))\n",
        "\n",
        "        loss /= len(data_loader)\n",
        "        acc /= len(data_loader)\n",
        "\n",
        "    return {\"model_name\": model.__class__.__name__,\n",
        "           \"model_loss\": loss.item(),\n",
        "           \"model_acc\": acc}\n",
        "\n",
        "#   Calculate model result on the test dataset\n",
        "model_0_results = eval_model(model = model_0,\n",
        "                            data_loader = test_dataloader,\n",
        "                            loss_fn = loss_fn,\n",
        "                            accuracy_fn = accuracy_fn)\n",
        "model_0_results"
      ]
    },
    {
      "cell_type": "code",
      "execution_count": 188,
      "id": "057b4278-98cc-4ae6-a4d0-ba76e8731c6b",
      "metadata": {
        "id": "057b4278-98cc-4ae6-a4d0-ba76e8731c6b"
      },
      "outputs": [],
      "source": [
        "class FashionMNISTModelV1(nn.Module):\n",
        "    def __init__(self, input_shape: int,\n",
        "                hidden_units: int,\n",
        "                output_shape: int):\n",
        "        super().__init__()\n",
        "        self.layer_stack = nn.Sequential(\n",
        "            nn.Flatten(),\n",
        "            nn.Linear(in_features= input_shape,\n",
        "                     out_features=hidden_units),\n",
        "            nn.ReLU(),\n",
        "            nn.Linear(in_features=hidden_units,\n",
        "                     out_features=output_shape),\n",
        "            nn.ReLU()\n",
        "        )\n",
        "\n",
        "    def forward(self,x: torch.Tensor):\n",
        "        return self.layer_stack(x)\n"
      ]
    },
    {
      "cell_type": "code",
      "execution_count": 189,
      "id": "ffcd85ce-4888-4880-a401-eb9555133b5d",
      "metadata": {
        "tags": [],
        "id": "ffcd85ce-4888-4880-a401-eb9555133b5d"
      },
      "outputs": [],
      "source": [
        "torch.manual_seed(42)\n",
        "model_1 = FashionMNISTModelV1(input_shape=784,\n",
        "                             hidden_units=10,\n",
        "                             output_shape=len(class_names)).to(device)"
      ]
    },
    {
      "cell_type": "code",
      "execution_count": 190,
      "id": "276e3301-401b-4b2b-8249-e3f608de908d",
      "metadata": {
        "tags": [],
        "id": "276e3301-401b-4b2b-8249-e3f608de908d"
      },
      "outputs": [],
      "source": [
        "# model_1_results = eval_model(model = model_1,\n",
        "#                             data_loader = test_dataloader,\n",
        "#                             loss_fn = loss_fn,\n",
        "#                             accuracy_fn = accuracy_fn)\n",
        "# model_1_results"
      ]
    },
    {
      "cell_type": "code",
      "execution_count": 191,
      "id": "ff1f28e1-f901-492e-a025-60219639d67d",
      "metadata": {
        "tags": [],
        "id": "ff1f28e1-f901-492e-a025-60219639d67d"
      },
      "outputs": [],
      "source": [
        "loss_fn = nn.CrossEntropyLoss()\n",
        "optimizer = torch.optim.SGD(params= model_1.parameters(),lr = 0.1)"
      ]
    },
    {
      "cell_type": "code",
      "source": [
        "import requests\n",
        "from pathlib import Path\n",
        "\n",
        "# Download helper functions from Learn PyTorch repo (if not already downloaded)\n",
        "if Path(\"helper_functions.py\").is_file():\n",
        "  print(\"helper_functions.py already exists, skipping download\")\n",
        "else:\n",
        "  print(\"Downloading helper_functions.py\")\n",
        "  # Note: you need the \"raw\" GitHub URL for this to work\n",
        "  request = requests.get(\"https://raw.githubusercontent.com/mrdbourke/pytorch-deep-learning/main/helper_functions.py\")\n",
        "  with open(\"helper_functions.py\", \"wb\") as f:\n",
        "    f.write(request.content)"
      ],
      "metadata": {
        "colab": {
          "base_uri": "https://localhost:8080/"
        },
        "id": "M6u_O3h60HGe",
        "outputId": "06ec0701-1ebb-4fd4-8b7a-65289b5bd656"
      },
      "id": "M6u_O3h60HGe",
      "execution_count": 192,
      "outputs": [
        {
          "output_type": "stream",
          "name": "stdout",
          "text": [
            "helper_functions.py already exists, skipping download\n"
          ]
        }
      ]
    },
    {
      "cell_type": "code",
      "source": [
        "from helper_functions import accuracy_fn"
      ],
      "metadata": {
        "id": "KpW8TzXw0LG3"
      },
      "id": "KpW8TzXw0LG3",
      "execution_count": 193,
      "outputs": []
    },
    {
      "cell_type": "code",
      "execution_count": 194,
      "id": "bffc235c-79ad-4cca-a206-08a20bea2629",
      "metadata": {
        "tags": [],
        "id": "bffc235c-79ad-4cca-a206-08a20bea2629"
      },
      "outputs": [],
      "source": [
        "def train_step(model: torch.nn.Module,\n",
        "               dataloader: torch.utils.data.DataLoader,\n",
        "               loss_fn:torch.nn.Module,\n",
        "               optimizer: torch.optim.Optimizer,\n",
        "            accuracy_fn,\n",
        "              device: torch.device = device\n",
        "              ):\n",
        "\n",
        "    \"\"\"\"Performs a training with model trying to learn on data_loader.\"\"\"\n",
        "\n",
        "    model.train()\n",
        "    # for epoch in tqdm(range(epochs)):\n",
        "    #     print(f\"Epoch: {epoch}\\n-----\")\n",
        "\n",
        "    train_loss,train_acc = 0,0\n",
        "    #     Add a loop to loop through the training batches\n",
        "    for batch, (X,y) in enumerate(dataloader):\n",
        "\n",
        "\n",
        "        y_pred = model_0(X)\n",
        "\n",
        "        loss = loss_fn(y_pred,y)\n",
        "        train_loss += loss\n",
        "        train_acc += accuracy_fn(y,y_pred.argmax(dim = 1))\n",
        "\n",
        "        optimizer.zero_grad()\n",
        "\n",
        "        loss.backward()\n",
        "\n",
        "        optimizer.step()\n",
        "\n",
        "        # if batch % 400 == 0:\n",
        "        #     print(f\"Looked at {batch * len(X)}/{len(train_dataloader.dataset)} samples.\")\n",
        "\n",
        "    train_loss /= len(dataloader)\n",
        "    train_acc /= len(dataloader)\n",
        "    print(f\"Train Loss: {train_loss:.5f} | Train Accuracy: {train_acc:.3f}\")"
      ]
    },
    {
      "cell_type": "code",
      "execution_count": 195,
      "id": "764253b3-70bf-4a7b-b6b3-ae3907c14202",
      "metadata": {
        "tags": [],
        "id": "764253b3-70bf-4a7b-b6b3-ae3907c14202"
      },
      "outputs": [],
      "source": [
        "def test_step(model: torch.nn.Module,\n",
        "             accuracy_fn,\n",
        "             loss_fn: torch.nn.Module,\n",
        "             dataloader: torch.utils.data.dataloader,\n",
        "             device: torch.device = device):\n",
        "    \"\"\"Performs a testing loop step on model going over dataloader\"\"\"\n",
        "    test_loss, test_acc = 0,0\n",
        "    model_0.eval()\n",
        "    with torch.inference_mode():\n",
        "        for X_test,y_test in dataloader:\n",
        "            X_test,y_test =  X_test.to(device),y_test.to(device)\n",
        "\n",
        "            test_pred = model(X_test)\n",
        "\n",
        "            test_loss += loss_fn(test_pred,y_test)\n",
        "\n",
        "            test_acc += accuracy_fn(y_test,test_pred.argmax(dim=1))\n",
        "\n",
        "        test_loss /= len(dataloader)\n",
        "\n",
        "        test_acc /= len(dataloader)\n",
        "\n",
        "        print(f\"Test Loss: {test_loss:.5f} | Test Accuracy {test_acc:.3f}\\n\")"
      ]
    },
    {
      "cell_type": "code",
      "execution_count": 196,
      "id": "2ef568d0-3f1a-4519-a885-575b63968bd3",
      "metadata": {
        "tags": [],
        "colab": {
          "base_uri": "https://localhost:8080/",
          "height": 570,
          "referenced_widgets": [
            "16fb9459618e4804bb597d645b4c0069",
            "f36d29d02284489c97204b36b350e145",
            "12b9db223c8e42e2ad356ca5e17274a9",
            "544491354cfe495db94c454e5737872d",
            "2167f2ba5d574606988e559be3df1602",
            "89ab4cefb20b4375a504c9a210f696d1",
            "cdd7660a52fa4caead666df2bb95179a",
            "c412fe5e37bc4cfba90dd626b7b31768",
            "e31973c213f6436a8cc02fd911fa97ee",
            "7375db79f05a40c78b9e2662a92bce6b",
            "8752bfdadff64b96b9053ca3f722dd53"
          ]
        },
        "id": "2ef568d0-3f1a-4519-a885-575b63968bd3",
        "outputId": "cafa4fe4-4a0b-4d5d-a04e-054e9f3432fb"
      },
      "outputs": [
        {
          "output_type": "display_data",
          "data": {
            "text/plain": [
              "  0%|          | 0/5 [00:00<?, ?it/s]"
            ],
            "application/vnd.jupyter.widget-view+json": {
              "version_major": 2,
              "version_minor": 0,
              "model_id": "16fb9459618e4804bb597d645b4c0069"
            }
          },
          "metadata": {}
        },
        {
          "output_type": "stream",
          "name": "stdout",
          "text": [
            "Epoch: 0\n",
            "-----\n",
            "Train Loss: 0.43026 | Train Accuracy: 84.942\n",
            "Test Loss: 2.30211 | Test Accuracy 10.753\n",
            "\n",
            "Train time on cuda:0: 29.698 seconds\n",
            "Epoch: 1\n",
            "-----\n",
            "Train Loss: 0.43026 | Train Accuracy: 84.942\n",
            "Test Loss: 2.30211 | Test Accuracy 10.753\n",
            "\n",
            "Train time on cuda:0: 29.698 seconds\n",
            "Epoch: 2\n",
            "-----\n",
            "Train Loss: 0.43026 | Train Accuracy: 84.942\n",
            "Test Loss: 2.30211 | Test Accuracy 10.753\n",
            "\n",
            "Train time on cuda:0: 29.698 seconds\n",
            "Epoch: 3\n",
            "-----\n",
            "Train Loss: 0.43026 | Train Accuracy: 84.942\n",
            "Test Loss: 2.30211 | Test Accuracy 10.753\n",
            "\n",
            "Train time on cuda:0: 29.698 seconds\n",
            "Epoch: 4\n",
            "-----\n",
            "Train Loss: 0.43026 | Train Accuracy: 84.942\n",
            "Test Loss: 2.30211 | Test Accuracy 10.753\n",
            "\n",
            "Train time on cuda:0: 29.698 seconds\n"
          ]
        }
      ],
      "source": [
        "epochs = 5\n",
        "for epoch in tqdm(range(epochs)):\n",
        "    print(f\"Epoch: {epoch}\\n-----\")\n",
        "    train_step(model=model_1,dataloader=train_dataloader,\n",
        "               loss_fn=loss_fn,\n",
        "               optimizer=optimizer,\n",
        "               accuracy_fn=accuracy_fn,\n",
        "               device=device)\n",
        "    test_step(dataloader=test_dataloader,\n",
        "              model=model_1,\n",
        "              loss_fn=loss_fn,\n",
        "              accuracy_fn= accuracy_fn)\n",
        "    train_time_end_on_gpu = timer()\n",
        "    total_train_time_model_1 = print_train_time(start = train_time_start_on_cpu,\n",
        "                                           end = train_time_end_on_cpu,\n",
        "                                           device = str(next(model_1.parameters()).device))"
      ]
    },
    {
      "cell_type": "code",
      "execution_count": 197,
      "id": "5344854b-f920-4d69-8f2e-9762a1bdfacc",
      "metadata": {
        "tags": [],
        "id": "5344854b-f920-4d69-8f2e-9762a1bdfacc"
      },
      "outputs": [],
      "source": [
        "# train_step(model=model_1,dataloader=train_dataloader,loss_fn=loss_fn,optimizer=optimizer,accuracy_fn=accuracy_fn,device=device,epochs=5)"
      ]
    },
    {
      "cell_type": "code",
      "execution_count": 198,
      "id": "93c84ed3-cdab-4cdb-b4e8-46d4a5cce789",
      "metadata": {
        "tags": [],
        "colab": {
          "base_uri": "https://localhost:8080/"
        },
        "id": "93c84ed3-cdab-4cdb-b4e8-46d4a5cce789",
        "outputId": "ce362002-fd48-49f9-b0e8-5ea17ad623f5"
      },
      "outputs": [
        {
          "output_type": "stream",
          "name": "stdout",
          "text": [
            "Test Loss: 2.30211 | Test Accuracy 10.753\n",
            "\n"
          ]
        }
      ],
      "source": [
        "test_step(dataloader=test_dataloader,model=model_1,loss_fn=loss_fn,accuracy_fn= accuracy_fn)"
      ]
    },
    {
      "cell_type": "code",
      "source": [
        "next(model_1.parameters()).device"
      ],
      "metadata": {
        "colab": {
          "base_uri": "https://localhost:8080/"
        },
        "id": "9Ghh3oM0yU6-",
        "outputId": "787b654a-bd18-4dea-98c2-8a938c9282bd"
      },
      "id": "9Ghh3oM0yU6-",
      "execution_count": 199,
      "outputs": [
        {
          "output_type": "execute_result",
          "data": {
            "text/plain": [
              "device(type='cuda', index=0)"
            ]
          },
          "metadata": {},
          "execution_count": 199
        }
      ]
    },
    {
      "cell_type": "code",
      "source": [
        "next(model_0.parameters()).device"
      ],
      "metadata": {
        "colab": {
          "base_uri": "https://localhost:8080/"
        },
        "id": "CEvK-YKmzejd",
        "outputId": "14e176db-119c-4014-9f32-ecc92ae85e3c"
      },
      "id": "CEvK-YKmzejd",
      "execution_count": 200,
      "outputs": [
        {
          "output_type": "execute_result",
          "data": {
            "text/plain": [
              "device(type='cpu')"
            ]
          },
          "metadata": {},
          "execution_count": 200
        }
      ]
    },
    {
      "cell_type": "code",
      "source": [
        "model_1_results = eval_model(model = model_1,\n",
        "                            data_loader = train_dataloader,\n",
        "                            loss_fn = loss_fn,\n",
        "                            accuracy_fn = accuracy_fn,\n",
        "                             device = device)\n",
        "model_1_results"
      ],
      "metadata": {
        "colab": {
          "base_uri": "https://localhost:8080/",
          "height": 422,
          "referenced_widgets": [
            "27463b80032541f2a35b175f379fe13a",
            "c16046381b7c483c950d15cbcf5e88e3",
            "7af02199ad414bcabfad83d5e8c8290e",
            "b4d99202e7dc499ab7e5c5078e17c2df",
            "55b2ca011eca45af9a3e6586ebfaadde",
            "2d81eaa6c5a24cd1a619572b09a5fa79",
            "7360ee711f4d409c9b9db60ea03a4fb6",
            "3e2da474718f4907aa6e7e0a6ff1e416",
            "13624e6d5d534241b50da5cd3bec2612",
            "f399f7f5bab54bf6822c3a424698af03",
            "45924e4eddb747ccbd26006b5d7fe96d"
          ]
        },
        "id": "u2ZUTGNc1xOP",
        "outputId": "9afe21bd-3c99-422c-d364-6e8f414b8e02"
      },
      "id": "u2ZUTGNc1xOP",
      "execution_count": 205,
      "outputs": [
        {
          "output_type": "display_data",
          "data": {
            "text/plain": [
              "  0%|          | 0/313 [00:00<?, ?it/s]"
            ],
            "application/vnd.jupyter.widget-view+json": {
              "version_major": 2,
              "version_minor": 0,
              "model_id": "27463b80032541f2a35b175f379fe13a"
            }
          },
          "metadata": {}
        },
        {
          "output_type": "error",
          "ename": "RuntimeError",
          "evalue": "ignored",
          "traceback": [
            "\u001b[0;31m---------------------------------------------------------------------------\u001b[0m",
            "\u001b[0;31mRuntimeError\u001b[0m                              Traceback (most recent call last)",
            "\u001b[0;32m<ipython-input-205-5d491f818a2e>\u001b[0m in \u001b[0;36m<cell line: 1>\u001b[0;34m()\u001b[0m\n\u001b[0;32m----> 1\u001b[0;31m model_1_results = eval_model(model = model_1,\n\u001b[0m\u001b[1;32m      2\u001b[0m                             \u001b[0mdata_loader\u001b[0m \u001b[0;34m=\u001b[0m \u001b[0mtest_dataloader\u001b[0m\u001b[0;34m,\u001b[0m\u001b[0;34m\u001b[0m\u001b[0;34m\u001b[0m\u001b[0m\n\u001b[1;32m      3\u001b[0m                             \u001b[0mloss_fn\u001b[0m \u001b[0;34m=\u001b[0m \u001b[0mloss_fn\u001b[0m\u001b[0;34m,\u001b[0m\u001b[0;34m\u001b[0m\u001b[0;34m\u001b[0m\u001b[0m\n\u001b[1;32m      4\u001b[0m                             \u001b[0maccuracy_fn\u001b[0m \u001b[0;34m=\u001b[0m \u001b[0maccuracy_fn\u001b[0m\u001b[0;34m,\u001b[0m\u001b[0;34m\u001b[0m\u001b[0;34m\u001b[0m\u001b[0m\n\u001b[1;32m      5\u001b[0m                              device = device)\n",
            "\u001b[0;32m<ipython-input-187-26a7300e3d54>\u001b[0m in \u001b[0;36meval_model\u001b[0;34m(model, data_loader, loss_fn, accuracy_fn, device)\u001b[0m\n\u001b[1;32m     12\u001b[0m         \u001b[0;32mfor\u001b[0m \u001b[0mX\u001b[0m\u001b[0;34m,\u001b[0m\u001b[0my\u001b[0m \u001b[0;32min\u001b[0m \u001b[0mtqdm\u001b[0m\u001b[0;34m(\u001b[0m\u001b[0mdata_loader\u001b[0m\u001b[0;34m)\u001b[0m\u001b[0;34m:\u001b[0m\u001b[0;34m\u001b[0m\u001b[0;34m\u001b[0m\u001b[0m\n\u001b[1;32m     13\u001b[0m \u001b[0;31m#             Make Predictions\u001b[0m\u001b[0;34m\u001b[0m\u001b[0;34m\u001b[0m\u001b[0m\n\u001b[0;32m---> 14\u001b[0;31m             \u001b[0my_pred\u001b[0m \u001b[0;34m=\u001b[0m \u001b[0mmodel\u001b[0m\u001b[0;34m(\u001b[0m\u001b[0mX\u001b[0m\u001b[0;34m)\u001b[0m\u001b[0;34m\u001b[0m\u001b[0;34m\u001b[0m\u001b[0m\n\u001b[0m\u001b[1;32m     15\u001b[0m \u001b[0;34m\u001b[0m\u001b[0m\n\u001b[1;32m     16\u001b[0m \u001b[0;31m#            Accumulate the loss and acc valus per batch\u001b[0m\u001b[0;34m\u001b[0m\u001b[0;34m\u001b[0m\u001b[0m\n",
            "\u001b[0;32m/usr/local/lib/python3.10/dist-packages/torch/nn/modules/module.py\u001b[0m in \u001b[0;36m_wrapped_call_impl\u001b[0;34m(self, *args, **kwargs)\u001b[0m\n\u001b[1;32m   1516\u001b[0m             \u001b[0;32mreturn\u001b[0m \u001b[0mself\u001b[0m\u001b[0;34m.\u001b[0m\u001b[0m_compiled_call_impl\u001b[0m\u001b[0;34m(\u001b[0m\u001b[0;34m*\u001b[0m\u001b[0margs\u001b[0m\u001b[0;34m,\u001b[0m \u001b[0;34m**\u001b[0m\u001b[0mkwargs\u001b[0m\u001b[0;34m)\u001b[0m  \u001b[0;31m# type: ignore[misc]\u001b[0m\u001b[0;34m\u001b[0m\u001b[0;34m\u001b[0m\u001b[0m\n\u001b[1;32m   1517\u001b[0m         \u001b[0;32melse\u001b[0m\u001b[0;34m:\u001b[0m\u001b[0;34m\u001b[0m\u001b[0;34m\u001b[0m\u001b[0m\n\u001b[0;32m-> 1518\u001b[0;31m             \u001b[0;32mreturn\u001b[0m \u001b[0mself\u001b[0m\u001b[0;34m.\u001b[0m\u001b[0m_call_impl\u001b[0m\u001b[0;34m(\u001b[0m\u001b[0;34m*\u001b[0m\u001b[0margs\u001b[0m\u001b[0;34m,\u001b[0m \u001b[0;34m**\u001b[0m\u001b[0mkwargs\u001b[0m\u001b[0;34m)\u001b[0m\u001b[0;34m\u001b[0m\u001b[0;34m\u001b[0m\u001b[0m\n\u001b[0m\u001b[1;32m   1519\u001b[0m \u001b[0;34m\u001b[0m\u001b[0m\n\u001b[1;32m   1520\u001b[0m     \u001b[0;32mdef\u001b[0m \u001b[0m_call_impl\u001b[0m\u001b[0;34m(\u001b[0m\u001b[0mself\u001b[0m\u001b[0;34m,\u001b[0m \u001b[0;34m*\u001b[0m\u001b[0margs\u001b[0m\u001b[0;34m,\u001b[0m \u001b[0;34m**\u001b[0m\u001b[0mkwargs\u001b[0m\u001b[0;34m)\u001b[0m\u001b[0;34m:\u001b[0m\u001b[0;34m\u001b[0m\u001b[0;34m\u001b[0m\u001b[0m\n",
            "\u001b[0;32m/usr/local/lib/python3.10/dist-packages/torch/nn/modules/module.py\u001b[0m in \u001b[0;36m_call_impl\u001b[0;34m(self, *args, **kwargs)\u001b[0m\n\u001b[1;32m   1525\u001b[0m                 \u001b[0;32mor\u001b[0m \u001b[0m_global_backward_pre_hooks\u001b[0m \u001b[0;32mor\u001b[0m \u001b[0m_global_backward_hooks\u001b[0m\u001b[0;34m\u001b[0m\u001b[0;34m\u001b[0m\u001b[0m\n\u001b[1;32m   1526\u001b[0m                 or _global_forward_hooks or _global_forward_pre_hooks):\n\u001b[0;32m-> 1527\u001b[0;31m             \u001b[0;32mreturn\u001b[0m \u001b[0mforward_call\u001b[0m\u001b[0;34m(\u001b[0m\u001b[0;34m*\u001b[0m\u001b[0margs\u001b[0m\u001b[0;34m,\u001b[0m \u001b[0;34m**\u001b[0m\u001b[0mkwargs\u001b[0m\u001b[0;34m)\u001b[0m\u001b[0;34m\u001b[0m\u001b[0;34m\u001b[0m\u001b[0m\n\u001b[0m\u001b[1;32m   1528\u001b[0m \u001b[0;34m\u001b[0m\u001b[0m\n\u001b[1;32m   1529\u001b[0m         \u001b[0;32mtry\u001b[0m\u001b[0;34m:\u001b[0m\u001b[0;34m\u001b[0m\u001b[0;34m\u001b[0m\u001b[0m\n",
            "\u001b[0;32m<ipython-input-188-cc9524a4e0b8>\u001b[0m in \u001b[0;36mforward\u001b[0;34m(self, x)\u001b[0m\n\u001b[1;32m     15\u001b[0m \u001b[0;34m\u001b[0m\u001b[0m\n\u001b[1;32m     16\u001b[0m     \u001b[0;32mdef\u001b[0m \u001b[0mforward\u001b[0m\u001b[0;34m(\u001b[0m\u001b[0mself\u001b[0m\u001b[0;34m,\u001b[0m\u001b[0mx\u001b[0m\u001b[0;34m:\u001b[0m \u001b[0mtorch\u001b[0m\u001b[0;34m.\u001b[0m\u001b[0mTensor\u001b[0m\u001b[0;34m)\u001b[0m\u001b[0;34m:\u001b[0m\u001b[0;34m\u001b[0m\u001b[0;34m\u001b[0m\u001b[0m\n\u001b[0;32m---> 17\u001b[0;31m         \u001b[0;32mreturn\u001b[0m \u001b[0mself\u001b[0m\u001b[0;34m.\u001b[0m\u001b[0mlayer_stack\u001b[0m\u001b[0;34m(\u001b[0m\u001b[0mx\u001b[0m\u001b[0;34m)\u001b[0m\u001b[0;34m\u001b[0m\u001b[0;34m\u001b[0m\u001b[0m\n\u001b[0m",
            "\u001b[0;32m/usr/local/lib/python3.10/dist-packages/torch/nn/modules/module.py\u001b[0m in \u001b[0;36m_wrapped_call_impl\u001b[0;34m(self, *args, **kwargs)\u001b[0m\n\u001b[1;32m   1516\u001b[0m             \u001b[0;32mreturn\u001b[0m \u001b[0mself\u001b[0m\u001b[0;34m.\u001b[0m\u001b[0m_compiled_call_impl\u001b[0m\u001b[0;34m(\u001b[0m\u001b[0;34m*\u001b[0m\u001b[0margs\u001b[0m\u001b[0;34m,\u001b[0m \u001b[0;34m**\u001b[0m\u001b[0mkwargs\u001b[0m\u001b[0;34m)\u001b[0m  \u001b[0;31m# type: ignore[misc]\u001b[0m\u001b[0;34m\u001b[0m\u001b[0;34m\u001b[0m\u001b[0m\n\u001b[1;32m   1517\u001b[0m         \u001b[0;32melse\u001b[0m\u001b[0;34m:\u001b[0m\u001b[0;34m\u001b[0m\u001b[0;34m\u001b[0m\u001b[0m\n\u001b[0;32m-> 1518\u001b[0;31m             \u001b[0;32mreturn\u001b[0m \u001b[0mself\u001b[0m\u001b[0;34m.\u001b[0m\u001b[0m_call_impl\u001b[0m\u001b[0;34m(\u001b[0m\u001b[0;34m*\u001b[0m\u001b[0margs\u001b[0m\u001b[0;34m,\u001b[0m \u001b[0;34m**\u001b[0m\u001b[0mkwargs\u001b[0m\u001b[0;34m)\u001b[0m\u001b[0;34m\u001b[0m\u001b[0;34m\u001b[0m\u001b[0m\n\u001b[0m\u001b[1;32m   1519\u001b[0m \u001b[0;34m\u001b[0m\u001b[0m\n\u001b[1;32m   1520\u001b[0m     \u001b[0;32mdef\u001b[0m \u001b[0m_call_impl\u001b[0m\u001b[0;34m(\u001b[0m\u001b[0mself\u001b[0m\u001b[0;34m,\u001b[0m \u001b[0;34m*\u001b[0m\u001b[0margs\u001b[0m\u001b[0;34m,\u001b[0m \u001b[0;34m**\u001b[0m\u001b[0mkwargs\u001b[0m\u001b[0;34m)\u001b[0m\u001b[0;34m:\u001b[0m\u001b[0;34m\u001b[0m\u001b[0;34m\u001b[0m\u001b[0m\n",
            "\u001b[0;32m/usr/local/lib/python3.10/dist-packages/torch/nn/modules/module.py\u001b[0m in \u001b[0;36m_call_impl\u001b[0;34m(self, *args, **kwargs)\u001b[0m\n\u001b[1;32m   1525\u001b[0m                 \u001b[0;32mor\u001b[0m \u001b[0m_global_backward_pre_hooks\u001b[0m \u001b[0;32mor\u001b[0m \u001b[0m_global_backward_hooks\u001b[0m\u001b[0;34m\u001b[0m\u001b[0;34m\u001b[0m\u001b[0m\n\u001b[1;32m   1526\u001b[0m                 or _global_forward_hooks or _global_forward_pre_hooks):\n\u001b[0;32m-> 1527\u001b[0;31m             \u001b[0;32mreturn\u001b[0m \u001b[0mforward_call\u001b[0m\u001b[0;34m(\u001b[0m\u001b[0;34m*\u001b[0m\u001b[0margs\u001b[0m\u001b[0;34m,\u001b[0m \u001b[0;34m**\u001b[0m\u001b[0mkwargs\u001b[0m\u001b[0;34m)\u001b[0m\u001b[0;34m\u001b[0m\u001b[0;34m\u001b[0m\u001b[0m\n\u001b[0m\u001b[1;32m   1528\u001b[0m \u001b[0;34m\u001b[0m\u001b[0m\n\u001b[1;32m   1529\u001b[0m         \u001b[0;32mtry\u001b[0m\u001b[0;34m:\u001b[0m\u001b[0;34m\u001b[0m\u001b[0;34m\u001b[0m\u001b[0m\n",
            "\u001b[0;32m/usr/local/lib/python3.10/dist-packages/torch/nn/modules/container.py\u001b[0m in \u001b[0;36mforward\u001b[0;34m(self, input)\u001b[0m\n\u001b[1;32m    213\u001b[0m     \u001b[0;32mdef\u001b[0m \u001b[0mforward\u001b[0m\u001b[0;34m(\u001b[0m\u001b[0mself\u001b[0m\u001b[0;34m,\u001b[0m \u001b[0minput\u001b[0m\u001b[0;34m)\u001b[0m\u001b[0;34m:\u001b[0m\u001b[0;34m\u001b[0m\u001b[0;34m\u001b[0m\u001b[0m\n\u001b[1;32m    214\u001b[0m         \u001b[0;32mfor\u001b[0m \u001b[0mmodule\u001b[0m \u001b[0;32min\u001b[0m \u001b[0mself\u001b[0m\u001b[0;34m:\u001b[0m\u001b[0;34m\u001b[0m\u001b[0;34m\u001b[0m\u001b[0m\n\u001b[0;32m--> 215\u001b[0;31m             \u001b[0minput\u001b[0m \u001b[0;34m=\u001b[0m \u001b[0mmodule\u001b[0m\u001b[0;34m(\u001b[0m\u001b[0minput\u001b[0m\u001b[0;34m)\u001b[0m\u001b[0;34m\u001b[0m\u001b[0;34m\u001b[0m\u001b[0m\n\u001b[0m\u001b[1;32m    216\u001b[0m         \u001b[0;32mreturn\u001b[0m \u001b[0minput\u001b[0m\u001b[0;34m\u001b[0m\u001b[0;34m\u001b[0m\u001b[0m\n\u001b[1;32m    217\u001b[0m \u001b[0;34m\u001b[0m\u001b[0m\n",
            "\u001b[0;32m/usr/local/lib/python3.10/dist-packages/torch/nn/modules/module.py\u001b[0m in \u001b[0;36m_wrapped_call_impl\u001b[0;34m(self, *args, **kwargs)\u001b[0m\n\u001b[1;32m   1516\u001b[0m             \u001b[0;32mreturn\u001b[0m \u001b[0mself\u001b[0m\u001b[0;34m.\u001b[0m\u001b[0m_compiled_call_impl\u001b[0m\u001b[0;34m(\u001b[0m\u001b[0;34m*\u001b[0m\u001b[0margs\u001b[0m\u001b[0;34m,\u001b[0m \u001b[0;34m**\u001b[0m\u001b[0mkwargs\u001b[0m\u001b[0;34m)\u001b[0m  \u001b[0;31m# type: ignore[misc]\u001b[0m\u001b[0;34m\u001b[0m\u001b[0;34m\u001b[0m\u001b[0m\n\u001b[1;32m   1517\u001b[0m         \u001b[0;32melse\u001b[0m\u001b[0;34m:\u001b[0m\u001b[0;34m\u001b[0m\u001b[0;34m\u001b[0m\u001b[0m\n\u001b[0;32m-> 1518\u001b[0;31m             \u001b[0;32mreturn\u001b[0m \u001b[0mself\u001b[0m\u001b[0;34m.\u001b[0m\u001b[0m_call_impl\u001b[0m\u001b[0;34m(\u001b[0m\u001b[0;34m*\u001b[0m\u001b[0margs\u001b[0m\u001b[0;34m,\u001b[0m \u001b[0;34m**\u001b[0m\u001b[0mkwargs\u001b[0m\u001b[0;34m)\u001b[0m\u001b[0;34m\u001b[0m\u001b[0;34m\u001b[0m\u001b[0m\n\u001b[0m\u001b[1;32m   1519\u001b[0m \u001b[0;34m\u001b[0m\u001b[0m\n\u001b[1;32m   1520\u001b[0m     \u001b[0;32mdef\u001b[0m \u001b[0m_call_impl\u001b[0m\u001b[0;34m(\u001b[0m\u001b[0mself\u001b[0m\u001b[0;34m,\u001b[0m \u001b[0;34m*\u001b[0m\u001b[0margs\u001b[0m\u001b[0;34m,\u001b[0m \u001b[0;34m**\u001b[0m\u001b[0mkwargs\u001b[0m\u001b[0;34m)\u001b[0m\u001b[0;34m:\u001b[0m\u001b[0;34m\u001b[0m\u001b[0;34m\u001b[0m\u001b[0m\n",
            "\u001b[0;32m/usr/local/lib/python3.10/dist-packages/torch/nn/modules/module.py\u001b[0m in \u001b[0;36m_call_impl\u001b[0;34m(self, *args, **kwargs)\u001b[0m\n\u001b[1;32m   1525\u001b[0m                 \u001b[0;32mor\u001b[0m \u001b[0m_global_backward_pre_hooks\u001b[0m \u001b[0;32mor\u001b[0m \u001b[0m_global_backward_hooks\u001b[0m\u001b[0;34m\u001b[0m\u001b[0;34m\u001b[0m\u001b[0m\n\u001b[1;32m   1526\u001b[0m                 or _global_forward_hooks or _global_forward_pre_hooks):\n\u001b[0;32m-> 1527\u001b[0;31m             \u001b[0;32mreturn\u001b[0m \u001b[0mforward_call\u001b[0m\u001b[0;34m(\u001b[0m\u001b[0;34m*\u001b[0m\u001b[0margs\u001b[0m\u001b[0;34m,\u001b[0m \u001b[0;34m**\u001b[0m\u001b[0mkwargs\u001b[0m\u001b[0;34m)\u001b[0m\u001b[0;34m\u001b[0m\u001b[0;34m\u001b[0m\u001b[0m\n\u001b[0m\u001b[1;32m   1528\u001b[0m \u001b[0;34m\u001b[0m\u001b[0m\n\u001b[1;32m   1529\u001b[0m         \u001b[0;32mtry\u001b[0m\u001b[0;34m:\u001b[0m\u001b[0;34m\u001b[0m\u001b[0;34m\u001b[0m\u001b[0m\n",
            "\u001b[0;32m/usr/local/lib/python3.10/dist-packages/torch/nn/modules/linear.py\u001b[0m in \u001b[0;36mforward\u001b[0;34m(self, input)\u001b[0m\n\u001b[1;32m    112\u001b[0m \u001b[0;34m\u001b[0m\u001b[0m\n\u001b[1;32m    113\u001b[0m     \u001b[0;32mdef\u001b[0m \u001b[0mforward\u001b[0m\u001b[0;34m(\u001b[0m\u001b[0mself\u001b[0m\u001b[0;34m,\u001b[0m \u001b[0minput\u001b[0m\u001b[0;34m:\u001b[0m \u001b[0mTensor\u001b[0m\u001b[0;34m)\u001b[0m \u001b[0;34m->\u001b[0m \u001b[0mTensor\u001b[0m\u001b[0;34m:\u001b[0m\u001b[0;34m\u001b[0m\u001b[0;34m\u001b[0m\u001b[0m\n\u001b[0;32m--> 114\u001b[0;31m         \u001b[0;32mreturn\u001b[0m \u001b[0mF\u001b[0m\u001b[0;34m.\u001b[0m\u001b[0mlinear\u001b[0m\u001b[0;34m(\u001b[0m\u001b[0minput\u001b[0m\u001b[0;34m,\u001b[0m \u001b[0mself\u001b[0m\u001b[0;34m.\u001b[0m\u001b[0mweight\u001b[0m\u001b[0;34m,\u001b[0m \u001b[0mself\u001b[0m\u001b[0;34m.\u001b[0m\u001b[0mbias\u001b[0m\u001b[0;34m)\u001b[0m\u001b[0;34m\u001b[0m\u001b[0;34m\u001b[0m\u001b[0m\n\u001b[0m\u001b[1;32m    115\u001b[0m \u001b[0;34m\u001b[0m\u001b[0m\n\u001b[1;32m    116\u001b[0m     \u001b[0;32mdef\u001b[0m \u001b[0mextra_repr\u001b[0m\u001b[0;34m(\u001b[0m\u001b[0mself\u001b[0m\u001b[0;34m)\u001b[0m \u001b[0;34m->\u001b[0m \u001b[0mstr\u001b[0m\u001b[0;34m:\u001b[0m\u001b[0;34m\u001b[0m\u001b[0;34m\u001b[0m\u001b[0m\n",
            "\u001b[0;31mRuntimeError\u001b[0m: Expected all tensors to be on the same device, but found at least two devices, cuda:0 and cpu! (when checking argument for argument mat1 in method wrapper_CUDA_addmm)"
          ]
        }
      ]
    },
    {
      "cell_type": "code",
      "source": [
        "'/'\n"
      ],
      "metadata": {
        "id": "nnjZAm7N2lOM"
      },
      "id": "nnjZAm7N2lOM",
      "execution_count": null,
      "outputs": []
    }
  ],
  "metadata": {
    "kernelspec": {
      "display_name": "Python 3",
      "name": "python3"
    },
    "language_info": {
      "codemirror_mode": {
        "name": "ipython",
        "version": 3
      },
      "file_extension": ".py",
      "mimetype": "text/x-python",
      "name": "python",
      "nbconvert_exporter": "python",
      "pygments_lexer": "ipython3",
      "version": "3.11.5"
    },
    "colab": {
      "provenance": [],
      "gpuType": "T4",
      "include_colab_link": true
    },
    "accelerator": "GPU",
    "widgets": {
      "application/vnd.jupyter.widget-state+json": {
        "0e95f37bea5849fd9f944f284626cd0a": {
          "model_module": "@jupyter-widgets/controls",
          "model_name": "HBoxModel",
          "model_module_version": "1.5.0",
          "state": {
            "_dom_classes": [],
            "_model_module": "@jupyter-widgets/controls",
            "_model_module_version": "1.5.0",
            "_model_name": "HBoxModel",
            "_view_count": null,
            "_view_module": "@jupyter-widgets/controls",
            "_view_module_version": "1.5.0",
            "_view_name": "HBoxView",
            "box_style": "",
            "children": [
              "IPY_MODEL_1f2ee5acdf944eeca5729f3670c7ddd9",
              "IPY_MODEL_3c0ed7c3d2814c58b1344c9891af76c2",
              "IPY_MODEL_cd51d4fb9c4247559013eda4273aa52f"
            ],
            "layout": "IPY_MODEL_dd8293b8ca4a45f1b84c8b01611b8811"
          }
        },
        "1f2ee5acdf944eeca5729f3670c7ddd9": {
          "model_module": "@jupyter-widgets/controls",
          "model_name": "HTMLModel",
          "model_module_version": "1.5.0",
          "state": {
            "_dom_classes": [],
            "_model_module": "@jupyter-widgets/controls",
            "_model_module_version": "1.5.0",
            "_model_name": "HTMLModel",
            "_view_count": null,
            "_view_module": "@jupyter-widgets/controls",
            "_view_module_version": "1.5.0",
            "_view_name": "HTMLView",
            "description": "",
            "description_tooltip": null,
            "layout": "IPY_MODEL_e96922ed73df482dbb59466b8168b86b",
            "placeholder": "​",
            "style": "IPY_MODEL_0850089ab0d04868b38274134112e889",
            "value": "100%"
          }
        },
        "3c0ed7c3d2814c58b1344c9891af76c2": {
          "model_module": "@jupyter-widgets/controls",
          "model_name": "FloatProgressModel",
          "model_module_version": "1.5.0",
          "state": {
            "_dom_classes": [],
            "_model_module": "@jupyter-widgets/controls",
            "_model_module_version": "1.5.0",
            "_model_name": "FloatProgressModel",
            "_view_count": null,
            "_view_module": "@jupyter-widgets/controls",
            "_view_module_version": "1.5.0",
            "_view_name": "ProgressView",
            "bar_style": "success",
            "description": "",
            "description_tooltip": null,
            "layout": "IPY_MODEL_9d373f4f02524ce6b76bf0e221533193",
            "max": 3,
            "min": 0,
            "orientation": "horizontal",
            "style": "IPY_MODEL_a1fd897820ee42539335b60102af2e9a",
            "value": 3
          }
        },
        "cd51d4fb9c4247559013eda4273aa52f": {
          "model_module": "@jupyter-widgets/controls",
          "model_name": "HTMLModel",
          "model_module_version": "1.5.0",
          "state": {
            "_dom_classes": [],
            "_model_module": "@jupyter-widgets/controls",
            "_model_module_version": "1.5.0",
            "_model_name": "HTMLModel",
            "_view_count": null,
            "_view_module": "@jupyter-widgets/controls",
            "_view_module_version": "1.5.0",
            "_view_name": "HTMLView",
            "description": "",
            "description_tooltip": null,
            "layout": "IPY_MODEL_1b0575448a54424684f49ed7ba5c4417",
            "placeholder": "​",
            "style": "IPY_MODEL_211844327b4e44df898e84216fed0d67",
            "value": " 3/3 [00:29&lt;00:00,  9.96s/it]"
          }
        },
        "dd8293b8ca4a45f1b84c8b01611b8811": {
          "model_module": "@jupyter-widgets/base",
          "model_name": "LayoutModel",
          "model_module_version": "1.2.0",
          "state": {
            "_model_module": "@jupyter-widgets/base",
            "_model_module_version": "1.2.0",
            "_model_name": "LayoutModel",
            "_view_count": null,
            "_view_module": "@jupyter-widgets/base",
            "_view_module_version": "1.2.0",
            "_view_name": "LayoutView",
            "align_content": null,
            "align_items": null,
            "align_self": null,
            "border": null,
            "bottom": null,
            "display": null,
            "flex": null,
            "flex_flow": null,
            "grid_area": null,
            "grid_auto_columns": null,
            "grid_auto_flow": null,
            "grid_auto_rows": null,
            "grid_column": null,
            "grid_gap": null,
            "grid_row": null,
            "grid_template_areas": null,
            "grid_template_columns": null,
            "grid_template_rows": null,
            "height": null,
            "justify_content": null,
            "justify_items": null,
            "left": null,
            "margin": null,
            "max_height": null,
            "max_width": null,
            "min_height": null,
            "min_width": null,
            "object_fit": null,
            "object_position": null,
            "order": null,
            "overflow": null,
            "overflow_x": null,
            "overflow_y": null,
            "padding": null,
            "right": null,
            "top": null,
            "visibility": null,
            "width": null
          }
        },
        "e96922ed73df482dbb59466b8168b86b": {
          "model_module": "@jupyter-widgets/base",
          "model_name": "LayoutModel",
          "model_module_version": "1.2.0",
          "state": {
            "_model_module": "@jupyter-widgets/base",
            "_model_module_version": "1.2.0",
            "_model_name": "LayoutModel",
            "_view_count": null,
            "_view_module": "@jupyter-widgets/base",
            "_view_module_version": "1.2.0",
            "_view_name": "LayoutView",
            "align_content": null,
            "align_items": null,
            "align_self": null,
            "border": null,
            "bottom": null,
            "display": null,
            "flex": null,
            "flex_flow": null,
            "grid_area": null,
            "grid_auto_columns": null,
            "grid_auto_flow": null,
            "grid_auto_rows": null,
            "grid_column": null,
            "grid_gap": null,
            "grid_row": null,
            "grid_template_areas": null,
            "grid_template_columns": null,
            "grid_template_rows": null,
            "height": null,
            "justify_content": null,
            "justify_items": null,
            "left": null,
            "margin": null,
            "max_height": null,
            "max_width": null,
            "min_height": null,
            "min_width": null,
            "object_fit": null,
            "object_position": null,
            "order": null,
            "overflow": null,
            "overflow_x": null,
            "overflow_y": null,
            "padding": null,
            "right": null,
            "top": null,
            "visibility": null,
            "width": null
          }
        },
        "0850089ab0d04868b38274134112e889": {
          "model_module": "@jupyter-widgets/controls",
          "model_name": "DescriptionStyleModel",
          "model_module_version": "1.5.0",
          "state": {
            "_model_module": "@jupyter-widgets/controls",
            "_model_module_version": "1.5.0",
            "_model_name": "DescriptionStyleModel",
            "_view_count": null,
            "_view_module": "@jupyter-widgets/base",
            "_view_module_version": "1.2.0",
            "_view_name": "StyleView",
            "description_width": ""
          }
        },
        "9d373f4f02524ce6b76bf0e221533193": {
          "model_module": "@jupyter-widgets/base",
          "model_name": "LayoutModel",
          "model_module_version": "1.2.0",
          "state": {
            "_model_module": "@jupyter-widgets/base",
            "_model_module_version": "1.2.0",
            "_model_name": "LayoutModel",
            "_view_count": null,
            "_view_module": "@jupyter-widgets/base",
            "_view_module_version": "1.2.0",
            "_view_name": "LayoutView",
            "align_content": null,
            "align_items": null,
            "align_self": null,
            "border": null,
            "bottom": null,
            "display": null,
            "flex": null,
            "flex_flow": null,
            "grid_area": null,
            "grid_auto_columns": null,
            "grid_auto_flow": null,
            "grid_auto_rows": null,
            "grid_column": null,
            "grid_gap": null,
            "grid_row": null,
            "grid_template_areas": null,
            "grid_template_columns": null,
            "grid_template_rows": null,
            "height": null,
            "justify_content": null,
            "justify_items": null,
            "left": null,
            "margin": null,
            "max_height": null,
            "max_width": null,
            "min_height": null,
            "min_width": null,
            "object_fit": null,
            "object_position": null,
            "order": null,
            "overflow": null,
            "overflow_x": null,
            "overflow_y": null,
            "padding": null,
            "right": null,
            "top": null,
            "visibility": null,
            "width": null
          }
        },
        "a1fd897820ee42539335b60102af2e9a": {
          "model_module": "@jupyter-widgets/controls",
          "model_name": "ProgressStyleModel",
          "model_module_version": "1.5.0",
          "state": {
            "_model_module": "@jupyter-widgets/controls",
            "_model_module_version": "1.5.0",
            "_model_name": "ProgressStyleModel",
            "_view_count": null,
            "_view_module": "@jupyter-widgets/base",
            "_view_module_version": "1.2.0",
            "_view_name": "StyleView",
            "bar_color": null,
            "description_width": ""
          }
        },
        "1b0575448a54424684f49ed7ba5c4417": {
          "model_module": "@jupyter-widgets/base",
          "model_name": "LayoutModel",
          "model_module_version": "1.2.0",
          "state": {
            "_model_module": "@jupyter-widgets/base",
            "_model_module_version": "1.2.0",
            "_model_name": "LayoutModel",
            "_view_count": null,
            "_view_module": "@jupyter-widgets/base",
            "_view_module_version": "1.2.0",
            "_view_name": "LayoutView",
            "align_content": null,
            "align_items": null,
            "align_self": null,
            "border": null,
            "bottom": null,
            "display": null,
            "flex": null,
            "flex_flow": null,
            "grid_area": null,
            "grid_auto_columns": null,
            "grid_auto_flow": null,
            "grid_auto_rows": null,
            "grid_column": null,
            "grid_gap": null,
            "grid_row": null,
            "grid_template_areas": null,
            "grid_template_columns": null,
            "grid_template_rows": null,
            "height": null,
            "justify_content": null,
            "justify_items": null,
            "left": null,
            "margin": null,
            "max_height": null,
            "max_width": null,
            "min_height": null,
            "min_width": null,
            "object_fit": null,
            "object_position": null,
            "order": null,
            "overflow": null,
            "overflow_x": null,
            "overflow_y": null,
            "padding": null,
            "right": null,
            "top": null,
            "visibility": null,
            "width": null
          }
        },
        "211844327b4e44df898e84216fed0d67": {
          "model_module": "@jupyter-widgets/controls",
          "model_name": "DescriptionStyleModel",
          "model_module_version": "1.5.0",
          "state": {
            "_model_module": "@jupyter-widgets/controls",
            "_model_module_version": "1.5.0",
            "_model_name": "DescriptionStyleModel",
            "_view_count": null,
            "_view_module": "@jupyter-widgets/base",
            "_view_module_version": "1.2.0",
            "_view_name": "StyleView",
            "description_width": ""
          }
        },
        "9cccfe713d5846eea314c508423422b6": {
          "model_module": "@jupyter-widgets/controls",
          "model_name": "HBoxModel",
          "model_module_version": "1.5.0",
          "state": {
            "_dom_classes": [],
            "_model_module": "@jupyter-widgets/controls",
            "_model_module_version": "1.5.0",
            "_model_name": "HBoxModel",
            "_view_count": null,
            "_view_module": "@jupyter-widgets/controls",
            "_view_module_version": "1.5.0",
            "_view_name": "HBoxView",
            "box_style": "",
            "children": [
              "IPY_MODEL_faa980ae71bb48dda5ba843e85d8f8fd",
              "IPY_MODEL_78067c1c396d48b18e327dc2067a2d76",
              "IPY_MODEL_467ff798c7dd45dfb5f96ebf5e49ba98"
            ],
            "layout": "IPY_MODEL_814005ae4bdb49ae8322087d42f34b8d"
          }
        },
        "faa980ae71bb48dda5ba843e85d8f8fd": {
          "model_module": "@jupyter-widgets/controls",
          "model_name": "HTMLModel",
          "model_module_version": "1.5.0",
          "state": {
            "_dom_classes": [],
            "_model_module": "@jupyter-widgets/controls",
            "_model_module_version": "1.5.0",
            "_model_name": "HTMLModel",
            "_view_count": null,
            "_view_module": "@jupyter-widgets/controls",
            "_view_module_version": "1.5.0",
            "_view_name": "HTMLView",
            "description": "",
            "description_tooltip": null,
            "layout": "IPY_MODEL_863bdbab575b4a67b9069766859c93d3",
            "placeholder": "​",
            "style": "IPY_MODEL_214c74a30f0d40c7b7ee84d398f754b1",
            "value": "100%"
          }
        },
        "78067c1c396d48b18e327dc2067a2d76": {
          "model_module": "@jupyter-widgets/controls",
          "model_name": "FloatProgressModel",
          "model_module_version": "1.5.0",
          "state": {
            "_dom_classes": [],
            "_model_module": "@jupyter-widgets/controls",
            "_model_module_version": "1.5.0",
            "_model_name": "FloatProgressModel",
            "_view_count": null,
            "_view_module": "@jupyter-widgets/controls",
            "_view_module_version": "1.5.0",
            "_view_name": "ProgressView",
            "bar_style": "success",
            "description": "",
            "description_tooltip": null,
            "layout": "IPY_MODEL_acd5c0b7495f4c258174f91cca29c6a9",
            "max": 313,
            "min": 0,
            "orientation": "horizontal",
            "style": "IPY_MODEL_63af952840eb4775a2bac7d65b8a9414",
            "value": 313
          }
        },
        "467ff798c7dd45dfb5f96ebf5e49ba98": {
          "model_module": "@jupyter-widgets/controls",
          "model_name": "HTMLModel",
          "model_module_version": "1.5.0",
          "state": {
            "_dom_classes": [],
            "_model_module": "@jupyter-widgets/controls",
            "_model_module_version": "1.5.0",
            "_model_name": "HTMLModel",
            "_view_count": null,
            "_view_module": "@jupyter-widgets/controls",
            "_view_module_version": "1.5.0",
            "_view_name": "HTMLView",
            "description": "",
            "description_tooltip": null,
            "layout": "IPY_MODEL_e4c0d91110d5472690fb04f955765ebc",
            "placeholder": "​",
            "style": "IPY_MODEL_72cd6bbe6212473db837326f1c947093",
            "value": " 313/313 [00:01&lt;00:00, 283.08it/s]"
          }
        },
        "814005ae4bdb49ae8322087d42f34b8d": {
          "model_module": "@jupyter-widgets/base",
          "model_name": "LayoutModel",
          "model_module_version": "1.2.0",
          "state": {
            "_model_module": "@jupyter-widgets/base",
            "_model_module_version": "1.2.0",
            "_model_name": "LayoutModel",
            "_view_count": null,
            "_view_module": "@jupyter-widgets/base",
            "_view_module_version": "1.2.0",
            "_view_name": "LayoutView",
            "align_content": null,
            "align_items": null,
            "align_self": null,
            "border": null,
            "bottom": null,
            "display": null,
            "flex": null,
            "flex_flow": null,
            "grid_area": null,
            "grid_auto_columns": null,
            "grid_auto_flow": null,
            "grid_auto_rows": null,
            "grid_column": null,
            "grid_gap": null,
            "grid_row": null,
            "grid_template_areas": null,
            "grid_template_columns": null,
            "grid_template_rows": null,
            "height": null,
            "justify_content": null,
            "justify_items": null,
            "left": null,
            "margin": null,
            "max_height": null,
            "max_width": null,
            "min_height": null,
            "min_width": null,
            "object_fit": null,
            "object_position": null,
            "order": null,
            "overflow": null,
            "overflow_x": null,
            "overflow_y": null,
            "padding": null,
            "right": null,
            "top": null,
            "visibility": null,
            "width": null
          }
        },
        "863bdbab575b4a67b9069766859c93d3": {
          "model_module": "@jupyter-widgets/base",
          "model_name": "LayoutModel",
          "model_module_version": "1.2.0",
          "state": {
            "_model_module": "@jupyter-widgets/base",
            "_model_module_version": "1.2.0",
            "_model_name": "LayoutModel",
            "_view_count": null,
            "_view_module": "@jupyter-widgets/base",
            "_view_module_version": "1.2.0",
            "_view_name": "LayoutView",
            "align_content": null,
            "align_items": null,
            "align_self": null,
            "border": null,
            "bottom": null,
            "display": null,
            "flex": null,
            "flex_flow": null,
            "grid_area": null,
            "grid_auto_columns": null,
            "grid_auto_flow": null,
            "grid_auto_rows": null,
            "grid_column": null,
            "grid_gap": null,
            "grid_row": null,
            "grid_template_areas": null,
            "grid_template_columns": null,
            "grid_template_rows": null,
            "height": null,
            "justify_content": null,
            "justify_items": null,
            "left": null,
            "margin": null,
            "max_height": null,
            "max_width": null,
            "min_height": null,
            "min_width": null,
            "object_fit": null,
            "object_position": null,
            "order": null,
            "overflow": null,
            "overflow_x": null,
            "overflow_y": null,
            "padding": null,
            "right": null,
            "top": null,
            "visibility": null,
            "width": null
          }
        },
        "214c74a30f0d40c7b7ee84d398f754b1": {
          "model_module": "@jupyter-widgets/controls",
          "model_name": "DescriptionStyleModel",
          "model_module_version": "1.5.0",
          "state": {
            "_model_module": "@jupyter-widgets/controls",
            "_model_module_version": "1.5.0",
            "_model_name": "DescriptionStyleModel",
            "_view_count": null,
            "_view_module": "@jupyter-widgets/base",
            "_view_module_version": "1.2.0",
            "_view_name": "StyleView",
            "description_width": ""
          }
        },
        "acd5c0b7495f4c258174f91cca29c6a9": {
          "model_module": "@jupyter-widgets/base",
          "model_name": "LayoutModel",
          "model_module_version": "1.2.0",
          "state": {
            "_model_module": "@jupyter-widgets/base",
            "_model_module_version": "1.2.0",
            "_model_name": "LayoutModel",
            "_view_count": null,
            "_view_module": "@jupyter-widgets/base",
            "_view_module_version": "1.2.0",
            "_view_name": "LayoutView",
            "align_content": null,
            "align_items": null,
            "align_self": null,
            "border": null,
            "bottom": null,
            "display": null,
            "flex": null,
            "flex_flow": null,
            "grid_area": null,
            "grid_auto_columns": null,
            "grid_auto_flow": null,
            "grid_auto_rows": null,
            "grid_column": null,
            "grid_gap": null,
            "grid_row": null,
            "grid_template_areas": null,
            "grid_template_columns": null,
            "grid_template_rows": null,
            "height": null,
            "justify_content": null,
            "justify_items": null,
            "left": null,
            "margin": null,
            "max_height": null,
            "max_width": null,
            "min_height": null,
            "min_width": null,
            "object_fit": null,
            "object_position": null,
            "order": null,
            "overflow": null,
            "overflow_x": null,
            "overflow_y": null,
            "padding": null,
            "right": null,
            "top": null,
            "visibility": null,
            "width": null
          }
        },
        "63af952840eb4775a2bac7d65b8a9414": {
          "model_module": "@jupyter-widgets/controls",
          "model_name": "ProgressStyleModel",
          "model_module_version": "1.5.0",
          "state": {
            "_model_module": "@jupyter-widgets/controls",
            "_model_module_version": "1.5.0",
            "_model_name": "ProgressStyleModel",
            "_view_count": null,
            "_view_module": "@jupyter-widgets/base",
            "_view_module_version": "1.2.0",
            "_view_name": "StyleView",
            "bar_color": null,
            "description_width": ""
          }
        },
        "e4c0d91110d5472690fb04f955765ebc": {
          "model_module": "@jupyter-widgets/base",
          "model_name": "LayoutModel",
          "model_module_version": "1.2.0",
          "state": {
            "_model_module": "@jupyter-widgets/base",
            "_model_module_version": "1.2.0",
            "_model_name": "LayoutModel",
            "_view_count": null,
            "_view_module": "@jupyter-widgets/base",
            "_view_module_version": "1.2.0",
            "_view_name": "LayoutView",
            "align_content": null,
            "align_items": null,
            "align_self": null,
            "border": null,
            "bottom": null,
            "display": null,
            "flex": null,
            "flex_flow": null,
            "grid_area": null,
            "grid_auto_columns": null,
            "grid_auto_flow": null,
            "grid_auto_rows": null,
            "grid_column": null,
            "grid_gap": null,
            "grid_row": null,
            "grid_template_areas": null,
            "grid_template_columns": null,
            "grid_template_rows": null,
            "height": null,
            "justify_content": null,
            "justify_items": null,
            "left": null,
            "margin": null,
            "max_height": null,
            "max_width": null,
            "min_height": null,
            "min_width": null,
            "object_fit": null,
            "object_position": null,
            "order": null,
            "overflow": null,
            "overflow_x": null,
            "overflow_y": null,
            "padding": null,
            "right": null,
            "top": null,
            "visibility": null,
            "width": null
          }
        },
        "72cd6bbe6212473db837326f1c947093": {
          "model_module": "@jupyter-widgets/controls",
          "model_name": "DescriptionStyleModel",
          "model_module_version": "1.5.0",
          "state": {
            "_model_module": "@jupyter-widgets/controls",
            "_model_module_version": "1.5.0",
            "_model_name": "DescriptionStyleModel",
            "_view_count": null,
            "_view_module": "@jupyter-widgets/base",
            "_view_module_version": "1.2.0",
            "_view_name": "StyleView",
            "description_width": ""
          }
        },
        "16fb9459618e4804bb597d645b4c0069": {
          "model_module": "@jupyter-widgets/controls",
          "model_name": "HBoxModel",
          "model_module_version": "1.5.0",
          "state": {
            "_dom_classes": [],
            "_model_module": "@jupyter-widgets/controls",
            "_model_module_version": "1.5.0",
            "_model_name": "HBoxModel",
            "_view_count": null,
            "_view_module": "@jupyter-widgets/controls",
            "_view_module_version": "1.5.0",
            "_view_name": "HBoxView",
            "box_style": "",
            "children": [
              "IPY_MODEL_f36d29d02284489c97204b36b350e145",
              "IPY_MODEL_12b9db223c8e42e2ad356ca5e17274a9",
              "IPY_MODEL_544491354cfe495db94c454e5737872d"
            ],
            "layout": "IPY_MODEL_2167f2ba5d574606988e559be3df1602"
          }
        },
        "f36d29d02284489c97204b36b350e145": {
          "model_module": "@jupyter-widgets/controls",
          "model_name": "HTMLModel",
          "model_module_version": "1.5.0",
          "state": {
            "_dom_classes": [],
            "_model_module": "@jupyter-widgets/controls",
            "_model_module_version": "1.5.0",
            "_model_name": "HTMLModel",
            "_view_count": null,
            "_view_module": "@jupyter-widgets/controls",
            "_view_module_version": "1.5.0",
            "_view_name": "HTMLView",
            "description": "",
            "description_tooltip": null,
            "layout": "IPY_MODEL_89ab4cefb20b4375a504c9a210f696d1",
            "placeholder": "​",
            "style": "IPY_MODEL_cdd7660a52fa4caead666df2bb95179a",
            "value": "100%"
          }
        },
        "12b9db223c8e42e2ad356ca5e17274a9": {
          "model_module": "@jupyter-widgets/controls",
          "model_name": "FloatProgressModel",
          "model_module_version": "1.5.0",
          "state": {
            "_dom_classes": [],
            "_model_module": "@jupyter-widgets/controls",
            "_model_module_version": "1.5.0",
            "_model_name": "FloatProgressModel",
            "_view_count": null,
            "_view_module": "@jupyter-widgets/controls",
            "_view_module_version": "1.5.0",
            "_view_name": "ProgressView",
            "bar_style": "success",
            "description": "",
            "description_tooltip": null,
            "layout": "IPY_MODEL_c412fe5e37bc4cfba90dd626b7b31768",
            "max": 5,
            "min": 0,
            "orientation": "horizontal",
            "style": "IPY_MODEL_e31973c213f6436a8cc02fd911fa97ee",
            "value": 5
          }
        },
        "544491354cfe495db94c454e5737872d": {
          "model_module": "@jupyter-widgets/controls",
          "model_name": "HTMLModel",
          "model_module_version": "1.5.0",
          "state": {
            "_dom_classes": [],
            "_model_module": "@jupyter-widgets/controls",
            "_model_module_version": "1.5.0",
            "_model_name": "HTMLModel",
            "_view_count": null,
            "_view_module": "@jupyter-widgets/controls",
            "_view_module_version": "1.5.0",
            "_view_name": "HTMLView",
            "description": "",
            "description_tooltip": null,
            "layout": "IPY_MODEL_7375db79f05a40c78b9e2662a92bce6b",
            "placeholder": "​",
            "style": "IPY_MODEL_8752bfdadff64b96b9053ca3f722dd53",
            "value": " 5/5 [00:48&lt;00:00,  9.78s/it]"
          }
        },
        "2167f2ba5d574606988e559be3df1602": {
          "model_module": "@jupyter-widgets/base",
          "model_name": "LayoutModel",
          "model_module_version": "1.2.0",
          "state": {
            "_model_module": "@jupyter-widgets/base",
            "_model_module_version": "1.2.0",
            "_model_name": "LayoutModel",
            "_view_count": null,
            "_view_module": "@jupyter-widgets/base",
            "_view_module_version": "1.2.0",
            "_view_name": "LayoutView",
            "align_content": null,
            "align_items": null,
            "align_self": null,
            "border": null,
            "bottom": null,
            "display": null,
            "flex": null,
            "flex_flow": null,
            "grid_area": null,
            "grid_auto_columns": null,
            "grid_auto_flow": null,
            "grid_auto_rows": null,
            "grid_column": null,
            "grid_gap": null,
            "grid_row": null,
            "grid_template_areas": null,
            "grid_template_columns": null,
            "grid_template_rows": null,
            "height": null,
            "justify_content": null,
            "justify_items": null,
            "left": null,
            "margin": null,
            "max_height": null,
            "max_width": null,
            "min_height": null,
            "min_width": null,
            "object_fit": null,
            "object_position": null,
            "order": null,
            "overflow": null,
            "overflow_x": null,
            "overflow_y": null,
            "padding": null,
            "right": null,
            "top": null,
            "visibility": null,
            "width": null
          }
        },
        "89ab4cefb20b4375a504c9a210f696d1": {
          "model_module": "@jupyter-widgets/base",
          "model_name": "LayoutModel",
          "model_module_version": "1.2.0",
          "state": {
            "_model_module": "@jupyter-widgets/base",
            "_model_module_version": "1.2.0",
            "_model_name": "LayoutModel",
            "_view_count": null,
            "_view_module": "@jupyter-widgets/base",
            "_view_module_version": "1.2.0",
            "_view_name": "LayoutView",
            "align_content": null,
            "align_items": null,
            "align_self": null,
            "border": null,
            "bottom": null,
            "display": null,
            "flex": null,
            "flex_flow": null,
            "grid_area": null,
            "grid_auto_columns": null,
            "grid_auto_flow": null,
            "grid_auto_rows": null,
            "grid_column": null,
            "grid_gap": null,
            "grid_row": null,
            "grid_template_areas": null,
            "grid_template_columns": null,
            "grid_template_rows": null,
            "height": null,
            "justify_content": null,
            "justify_items": null,
            "left": null,
            "margin": null,
            "max_height": null,
            "max_width": null,
            "min_height": null,
            "min_width": null,
            "object_fit": null,
            "object_position": null,
            "order": null,
            "overflow": null,
            "overflow_x": null,
            "overflow_y": null,
            "padding": null,
            "right": null,
            "top": null,
            "visibility": null,
            "width": null
          }
        },
        "cdd7660a52fa4caead666df2bb95179a": {
          "model_module": "@jupyter-widgets/controls",
          "model_name": "DescriptionStyleModel",
          "model_module_version": "1.5.0",
          "state": {
            "_model_module": "@jupyter-widgets/controls",
            "_model_module_version": "1.5.0",
            "_model_name": "DescriptionStyleModel",
            "_view_count": null,
            "_view_module": "@jupyter-widgets/base",
            "_view_module_version": "1.2.0",
            "_view_name": "StyleView",
            "description_width": ""
          }
        },
        "c412fe5e37bc4cfba90dd626b7b31768": {
          "model_module": "@jupyter-widgets/base",
          "model_name": "LayoutModel",
          "model_module_version": "1.2.0",
          "state": {
            "_model_module": "@jupyter-widgets/base",
            "_model_module_version": "1.2.0",
            "_model_name": "LayoutModel",
            "_view_count": null,
            "_view_module": "@jupyter-widgets/base",
            "_view_module_version": "1.2.0",
            "_view_name": "LayoutView",
            "align_content": null,
            "align_items": null,
            "align_self": null,
            "border": null,
            "bottom": null,
            "display": null,
            "flex": null,
            "flex_flow": null,
            "grid_area": null,
            "grid_auto_columns": null,
            "grid_auto_flow": null,
            "grid_auto_rows": null,
            "grid_column": null,
            "grid_gap": null,
            "grid_row": null,
            "grid_template_areas": null,
            "grid_template_columns": null,
            "grid_template_rows": null,
            "height": null,
            "justify_content": null,
            "justify_items": null,
            "left": null,
            "margin": null,
            "max_height": null,
            "max_width": null,
            "min_height": null,
            "min_width": null,
            "object_fit": null,
            "object_position": null,
            "order": null,
            "overflow": null,
            "overflow_x": null,
            "overflow_y": null,
            "padding": null,
            "right": null,
            "top": null,
            "visibility": null,
            "width": null
          }
        },
        "e31973c213f6436a8cc02fd911fa97ee": {
          "model_module": "@jupyter-widgets/controls",
          "model_name": "ProgressStyleModel",
          "model_module_version": "1.5.0",
          "state": {
            "_model_module": "@jupyter-widgets/controls",
            "_model_module_version": "1.5.0",
            "_model_name": "ProgressStyleModel",
            "_view_count": null,
            "_view_module": "@jupyter-widgets/base",
            "_view_module_version": "1.2.0",
            "_view_name": "StyleView",
            "bar_color": null,
            "description_width": ""
          }
        },
        "7375db79f05a40c78b9e2662a92bce6b": {
          "model_module": "@jupyter-widgets/base",
          "model_name": "LayoutModel",
          "model_module_version": "1.2.0",
          "state": {
            "_model_module": "@jupyter-widgets/base",
            "_model_module_version": "1.2.0",
            "_model_name": "LayoutModel",
            "_view_count": null,
            "_view_module": "@jupyter-widgets/base",
            "_view_module_version": "1.2.0",
            "_view_name": "LayoutView",
            "align_content": null,
            "align_items": null,
            "align_self": null,
            "border": null,
            "bottom": null,
            "display": null,
            "flex": null,
            "flex_flow": null,
            "grid_area": null,
            "grid_auto_columns": null,
            "grid_auto_flow": null,
            "grid_auto_rows": null,
            "grid_column": null,
            "grid_gap": null,
            "grid_row": null,
            "grid_template_areas": null,
            "grid_template_columns": null,
            "grid_template_rows": null,
            "height": null,
            "justify_content": null,
            "justify_items": null,
            "left": null,
            "margin": null,
            "max_height": null,
            "max_width": null,
            "min_height": null,
            "min_width": null,
            "object_fit": null,
            "object_position": null,
            "order": null,
            "overflow": null,
            "overflow_x": null,
            "overflow_y": null,
            "padding": null,
            "right": null,
            "top": null,
            "visibility": null,
            "width": null
          }
        },
        "8752bfdadff64b96b9053ca3f722dd53": {
          "model_module": "@jupyter-widgets/controls",
          "model_name": "DescriptionStyleModel",
          "model_module_version": "1.5.0",
          "state": {
            "_model_module": "@jupyter-widgets/controls",
            "_model_module_version": "1.5.0",
            "_model_name": "DescriptionStyleModel",
            "_view_count": null,
            "_view_module": "@jupyter-widgets/base",
            "_view_module_version": "1.2.0",
            "_view_name": "StyleView",
            "description_width": ""
          }
        },
        "27463b80032541f2a35b175f379fe13a": {
          "model_module": "@jupyter-widgets/controls",
          "model_name": "HBoxModel",
          "model_module_version": "1.5.0",
          "state": {
            "_dom_classes": [],
            "_model_module": "@jupyter-widgets/controls",
            "_model_module_version": "1.5.0",
            "_model_name": "HBoxModel",
            "_view_count": null,
            "_view_module": "@jupyter-widgets/controls",
            "_view_module_version": "1.5.0",
            "_view_name": "HBoxView",
            "box_style": "",
            "children": [
              "IPY_MODEL_c16046381b7c483c950d15cbcf5e88e3",
              "IPY_MODEL_7af02199ad414bcabfad83d5e8c8290e",
              "IPY_MODEL_b4d99202e7dc499ab7e5c5078e17c2df"
            ],
            "layout": "IPY_MODEL_55b2ca011eca45af9a3e6586ebfaadde"
          }
        },
        "c16046381b7c483c950d15cbcf5e88e3": {
          "model_module": "@jupyter-widgets/controls",
          "model_name": "HTMLModel",
          "model_module_version": "1.5.0",
          "state": {
            "_dom_classes": [],
            "_model_module": "@jupyter-widgets/controls",
            "_model_module_version": "1.5.0",
            "_model_name": "HTMLModel",
            "_view_count": null,
            "_view_module": "@jupyter-widgets/controls",
            "_view_module_version": "1.5.0",
            "_view_name": "HTMLView",
            "description": "",
            "description_tooltip": null,
            "layout": "IPY_MODEL_2d81eaa6c5a24cd1a619572b09a5fa79",
            "placeholder": "​",
            "style": "IPY_MODEL_7360ee711f4d409c9b9db60ea03a4fb6",
            "value": "  0%"
          }
        },
        "7af02199ad414bcabfad83d5e8c8290e": {
          "model_module": "@jupyter-widgets/controls",
          "model_name": "FloatProgressModel",
          "model_module_version": "1.5.0",
          "state": {
            "_dom_classes": [],
            "_model_module": "@jupyter-widgets/controls",
            "_model_module_version": "1.5.0",
            "_model_name": "FloatProgressModel",
            "_view_count": null,
            "_view_module": "@jupyter-widgets/controls",
            "_view_module_version": "1.5.0",
            "_view_name": "ProgressView",
            "bar_style": "danger",
            "description": "",
            "description_tooltip": null,
            "layout": "IPY_MODEL_3e2da474718f4907aa6e7e0a6ff1e416",
            "max": 313,
            "min": 0,
            "orientation": "horizontal",
            "style": "IPY_MODEL_13624e6d5d534241b50da5cd3bec2612",
            "value": 0
          }
        },
        "b4d99202e7dc499ab7e5c5078e17c2df": {
          "model_module": "@jupyter-widgets/controls",
          "model_name": "HTMLModel",
          "model_module_version": "1.5.0",
          "state": {
            "_dom_classes": [],
            "_model_module": "@jupyter-widgets/controls",
            "_model_module_version": "1.5.0",
            "_model_name": "HTMLModel",
            "_view_count": null,
            "_view_module": "@jupyter-widgets/controls",
            "_view_module_version": "1.5.0",
            "_view_name": "HTMLView",
            "description": "",
            "description_tooltip": null,
            "layout": "IPY_MODEL_f399f7f5bab54bf6822c3a424698af03",
            "placeholder": "​",
            "style": "IPY_MODEL_45924e4eddb747ccbd26006b5d7fe96d",
            "value": " 0/313 [00:00&lt;?, ?it/s]"
          }
        },
        "55b2ca011eca45af9a3e6586ebfaadde": {
          "model_module": "@jupyter-widgets/base",
          "model_name": "LayoutModel",
          "model_module_version": "1.2.0",
          "state": {
            "_model_module": "@jupyter-widgets/base",
            "_model_module_version": "1.2.0",
            "_model_name": "LayoutModel",
            "_view_count": null,
            "_view_module": "@jupyter-widgets/base",
            "_view_module_version": "1.2.0",
            "_view_name": "LayoutView",
            "align_content": null,
            "align_items": null,
            "align_self": null,
            "border": null,
            "bottom": null,
            "display": null,
            "flex": null,
            "flex_flow": null,
            "grid_area": null,
            "grid_auto_columns": null,
            "grid_auto_flow": null,
            "grid_auto_rows": null,
            "grid_column": null,
            "grid_gap": null,
            "grid_row": null,
            "grid_template_areas": null,
            "grid_template_columns": null,
            "grid_template_rows": null,
            "height": null,
            "justify_content": null,
            "justify_items": null,
            "left": null,
            "margin": null,
            "max_height": null,
            "max_width": null,
            "min_height": null,
            "min_width": null,
            "object_fit": null,
            "object_position": null,
            "order": null,
            "overflow": null,
            "overflow_x": null,
            "overflow_y": null,
            "padding": null,
            "right": null,
            "top": null,
            "visibility": null,
            "width": null
          }
        },
        "2d81eaa6c5a24cd1a619572b09a5fa79": {
          "model_module": "@jupyter-widgets/base",
          "model_name": "LayoutModel",
          "model_module_version": "1.2.0",
          "state": {
            "_model_module": "@jupyter-widgets/base",
            "_model_module_version": "1.2.0",
            "_model_name": "LayoutModel",
            "_view_count": null,
            "_view_module": "@jupyter-widgets/base",
            "_view_module_version": "1.2.0",
            "_view_name": "LayoutView",
            "align_content": null,
            "align_items": null,
            "align_self": null,
            "border": null,
            "bottom": null,
            "display": null,
            "flex": null,
            "flex_flow": null,
            "grid_area": null,
            "grid_auto_columns": null,
            "grid_auto_flow": null,
            "grid_auto_rows": null,
            "grid_column": null,
            "grid_gap": null,
            "grid_row": null,
            "grid_template_areas": null,
            "grid_template_columns": null,
            "grid_template_rows": null,
            "height": null,
            "justify_content": null,
            "justify_items": null,
            "left": null,
            "margin": null,
            "max_height": null,
            "max_width": null,
            "min_height": null,
            "min_width": null,
            "object_fit": null,
            "object_position": null,
            "order": null,
            "overflow": null,
            "overflow_x": null,
            "overflow_y": null,
            "padding": null,
            "right": null,
            "top": null,
            "visibility": null,
            "width": null
          }
        },
        "7360ee711f4d409c9b9db60ea03a4fb6": {
          "model_module": "@jupyter-widgets/controls",
          "model_name": "DescriptionStyleModel",
          "model_module_version": "1.5.0",
          "state": {
            "_model_module": "@jupyter-widgets/controls",
            "_model_module_version": "1.5.0",
            "_model_name": "DescriptionStyleModel",
            "_view_count": null,
            "_view_module": "@jupyter-widgets/base",
            "_view_module_version": "1.2.0",
            "_view_name": "StyleView",
            "description_width": ""
          }
        },
        "3e2da474718f4907aa6e7e0a6ff1e416": {
          "model_module": "@jupyter-widgets/base",
          "model_name": "LayoutModel",
          "model_module_version": "1.2.0",
          "state": {
            "_model_module": "@jupyter-widgets/base",
            "_model_module_version": "1.2.0",
            "_model_name": "LayoutModel",
            "_view_count": null,
            "_view_module": "@jupyter-widgets/base",
            "_view_module_version": "1.2.0",
            "_view_name": "LayoutView",
            "align_content": null,
            "align_items": null,
            "align_self": null,
            "border": null,
            "bottom": null,
            "display": null,
            "flex": null,
            "flex_flow": null,
            "grid_area": null,
            "grid_auto_columns": null,
            "grid_auto_flow": null,
            "grid_auto_rows": null,
            "grid_column": null,
            "grid_gap": null,
            "grid_row": null,
            "grid_template_areas": null,
            "grid_template_columns": null,
            "grid_template_rows": null,
            "height": null,
            "justify_content": null,
            "justify_items": null,
            "left": null,
            "margin": null,
            "max_height": null,
            "max_width": null,
            "min_height": null,
            "min_width": null,
            "object_fit": null,
            "object_position": null,
            "order": null,
            "overflow": null,
            "overflow_x": null,
            "overflow_y": null,
            "padding": null,
            "right": null,
            "top": null,
            "visibility": null,
            "width": null
          }
        },
        "13624e6d5d534241b50da5cd3bec2612": {
          "model_module": "@jupyter-widgets/controls",
          "model_name": "ProgressStyleModel",
          "model_module_version": "1.5.0",
          "state": {
            "_model_module": "@jupyter-widgets/controls",
            "_model_module_version": "1.5.0",
            "_model_name": "ProgressStyleModel",
            "_view_count": null,
            "_view_module": "@jupyter-widgets/base",
            "_view_module_version": "1.2.0",
            "_view_name": "StyleView",
            "bar_color": null,
            "description_width": ""
          }
        },
        "f399f7f5bab54bf6822c3a424698af03": {
          "model_module": "@jupyter-widgets/base",
          "model_name": "LayoutModel",
          "model_module_version": "1.2.0",
          "state": {
            "_model_module": "@jupyter-widgets/base",
            "_model_module_version": "1.2.0",
            "_model_name": "LayoutModel",
            "_view_count": null,
            "_view_module": "@jupyter-widgets/base",
            "_view_module_version": "1.2.0",
            "_view_name": "LayoutView",
            "align_content": null,
            "align_items": null,
            "align_self": null,
            "border": null,
            "bottom": null,
            "display": null,
            "flex": null,
            "flex_flow": null,
            "grid_area": null,
            "grid_auto_columns": null,
            "grid_auto_flow": null,
            "grid_auto_rows": null,
            "grid_column": null,
            "grid_gap": null,
            "grid_row": null,
            "grid_template_areas": null,
            "grid_template_columns": null,
            "grid_template_rows": null,
            "height": null,
            "justify_content": null,
            "justify_items": null,
            "left": null,
            "margin": null,
            "max_height": null,
            "max_width": null,
            "min_height": null,
            "min_width": null,
            "object_fit": null,
            "object_position": null,
            "order": null,
            "overflow": null,
            "overflow_x": null,
            "overflow_y": null,
            "padding": null,
            "right": null,
            "top": null,
            "visibility": null,
            "width": null
          }
        },
        "45924e4eddb747ccbd26006b5d7fe96d": {
          "model_module": "@jupyter-widgets/controls",
          "model_name": "DescriptionStyleModel",
          "model_module_version": "1.5.0",
          "state": {
            "_model_module": "@jupyter-widgets/controls",
            "_model_module_version": "1.5.0",
            "_model_name": "DescriptionStyleModel",
            "_view_count": null,
            "_view_module": "@jupyter-widgets/base",
            "_view_module_version": "1.2.0",
            "_view_name": "StyleView",
            "description_width": ""
          }
        }
      }
    }
  },
  "nbformat": 4,
  "nbformat_minor": 5
}